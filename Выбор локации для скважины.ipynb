{
 "cells": [
  {
   "cell_type": "markdown",
   "metadata": {},
   "source": [
    "Привет! меня зовут Люман Аблаев. Сегодня я проверю твой проект.\n",
    "<br> Дальнейшее общение будет происходить на \"ты\" если это не вызывает никаких проблем.\n",
    "<br> Желательно реагировать на красные комментарии ('исправил', 'не понятно как исправить ошибку', ...)\n",
    "<br> Пожалуйста, не удаляй комментарии ревьюера, так как они повышают качество повторного ревью.\n",
    "\n",
    "Комментарии будут в <font color='green'>зеленой</font>, <font color='blue'>синей</font> или <font color='red'>красной</font> рамках:\n",
    "\n",
    "\n",
    "<div class=\"alert alert-block alert-success\">\n",
    "<b>Успех:</b> Если все сделано отлично\n",
    "</div>\n",
    "\n",
    "<div class=\"alert alert-block alert-info\">\n",
    "<b>Совет: </b> Если можно немного улучшить\n",
    "</div>\n",
    "\n",
    "<div class=\"alert alert-block alert-danger\">\n",
    "<b>Ошибка:</b> Если требуются исправления. Работа не может быть принята с красными комментариями.\n",
    "</div>\n",
    "\n",
    "-------------------\n",
    "\n",
    "Будет очень хорошо, если ты будешь помечать свои действия следующим образом:\n",
    "<div class=\"alert alert-block alert-warning\">\n",
    "<b>Комментарий студента:</b> ..\n",
    "</div>\n",
    "<div class=\"alert alert-block alert-warning\">\n",
    "<b>Изменения:</b> Были внесены следующие изменения ...\n",
    "</div>\n",
    "\n",
    "<font color='orange' style='font-size:24px; font-weight:bold'>Общее впечатление</font>\n",
    "* Спасибо за  качественную работу, было интересно ее проверять.\n",
    "- Я оставил некоторые советы надеюсь они будут полезными или интересными.\n",
    "\n",
    "- Есть небольшие недочеты, но думаю у тебя не составить труда их исправить\n",
    "- Жду обновленную работу!"
   ]
  },
  {
   "cell_type": "markdown",
   "metadata": {},
   "source": [
    "<font color='orange' style='font-size:24px; font-weight:bold'>Общее впечатление[2]</font>\n",
    "* Спасибо за оперативность\n",
    "- Приятно видеть фидбек \n",
    "- Недочеты исправлены - работа полностью корректна\n",
    "- Рад был быть полезен. Удачи в дальнейшем обучении!\n",
    "\n"
   ]
  },
  {
   "cell_type": "markdown",
   "metadata": {},
   "source": [
    "# Выбор локации для скважины"
   ]
  },
  {
   "cell_type": "markdown",
   "metadata": {},
   "source": [
    "Допустим, вы работаете в добывающей компании «ГлавРосГосНефть». Нужно решить, где бурить новую скважину.\n",
    "\n",
    "Вам предоставлены пробы нефти в трёх регионах: в каждом 10 000 месторождений, где измерили качество нефти и объём её запасов. Постройте модель машинного обучения, которая поможет определить регион, где добыча принесёт наибольшую прибыль. Проанализируйте возможную прибыль и риски техникой *Bootstrap.*\n",
    "\n",
    "Шаги для выбора локации:\n",
    "\n",
    "- В избранном регионе ищут месторождения, для каждого определяют значения признаков;\n",
    "- Строят модель и оценивают объём запасов;\n",
    "- Выбирают месторождения с самым высокими оценками значений. Количество месторождений зависит от бюджета компании и стоимости разработки одной скважины;\n",
    "- Прибыль равна суммарной прибыли отобранных месторождений."
   ]
  },
  {
   "cell_type": "code",
   "execution_count": 1,
   "metadata": {},
   "outputs": [],
   "source": [
    "import pandas as pd\n",
    "import matplotlib.pyplot as plt\n",
    "import numpy as np\n",
    "import seaborn as sns\n",
    "from sklearn.model_selection import train_test_split\n",
    "from sklearn.preprocessing import StandardScaler, MinMaxScaler\n",
    "from sklearn.linear_model import LinearRegression\n",
    "from sklearn.metrics import mean_squared_error"
   ]
  },
  {
   "cell_type": "markdown",
   "metadata": {},
   "source": [
    "\n",
    "\n",
    "<div class=\"alert alert-block alert-success\">\n",
    "<b>Успех:</b> Импорты  на месте\n",
    "</div>\n",
    "\n"
   ]
  },
  {
   "cell_type": "markdown",
   "metadata": {},
   "source": [
    "## Загрузка и подготовка данных"
   ]
  },
  {
   "cell_type": "markdown",
   "metadata": {},
   "source": [
    "### Загрузка данных"
   ]
  },
  {
   "cell_type": "code",
   "execution_count": 2,
   "metadata": {},
   "outputs": [],
   "source": [
    "reg_1 = pd.read_csv('/datasets/geo_data_0.csv')\n",
    "reg_2 = pd.read_csv('/datasets/geo_data_1.csv')\n",
    "reg_3 = pd.read_csv('/datasets/geo_data_2.csv')"
   ]
  },
  {
   "cell_type": "code",
   "execution_count": 3,
   "metadata": {
    "scrolled": true
   },
   "outputs": [
    {
     "name": "stdout",
     "output_type": "stream",
     "text": [
      "      id        f0        f1        f2     product\n",
      "0  txEyH  0.705745 -0.497823  1.221170  105.280062\n",
      "1  2acmU  1.334711 -0.340164  4.365080   73.037750\n",
      "2  409Wp  1.022732  0.151990  1.419926   85.265647\n",
      "3  iJLyR -0.032172  0.139033  2.978566  168.620776\n",
      "4  Xdl7t  1.988431  0.155413  4.751769  154.036647\n",
      "\n",
      "      id         f0         f1        f2     product\n",
      "0  kBEdx -15.001348  -8.276000 -0.005876    3.179103\n",
      "1  62mP7  14.272088  -3.475083  0.999183   26.953261\n",
      "2  vyE1P   6.263187  -5.948386  5.001160  134.766305\n",
      "3  KcrkZ -13.081196 -11.506057  4.999415  137.945408\n",
      "4  AHL4O  12.702195  -8.147433  5.004363  134.766305\n",
      "\n",
      "      id        f0        f1        f2     product\n",
      "0  fwXo0 -1.146987  0.963328 -0.828965   27.758673\n",
      "1  WJtFt  0.262778  0.269839 -2.530187   56.069697\n",
      "2  ovLUW  0.194587  0.289035 -5.586433   62.871910\n",
      "3  q6cA6  2.236060 -0.553760  0.930038  114.572842\n",
      "4  WPMUX -0.515993  1.716266  5.899011  149.600746\n",
      "\n"
     ]
    }
   ],
   "source": [
    "for table in [reg_1, reg_2, reg_3]:\n",
    "    print(table.head())\n",
    "    print()"
   ]
  },
  {
   "cell_type": "code",
   "execution_count": 4,
   "metadata": {
    "scrolled": true
   },
   "outputs": [
    {
     "name": "stdout",
     "output_type": "stream",
     "text": [
      "<class 'pandas.core.frame.DataFrame'>\n",
      "RangeIndex: 100000 entries, 0 to 99999\n",
      "Data columns (total 5 columns):\n",
      " #   Column   Non-Null Count   Dtype  \n",
      "---  ------   --------------   -----  \n",
      " 0   id       100000 non-null  object \n",
      " 1   f0       100000 non-null  float64\n",
      " 2   f1       100000 non-null  float64\n",
      " 3   f2       100000 non-null  float64\n",
      " 4   product  100000 non-null  float64\n",
      "dtypes: float64(4), object(1)\n",
      "memory usage: 3.8+ MB\n",
      "\n",
      "<class 'pandas.core.frame.DataFrame'>\n",
      "RangeIndex: 100000 entries, 0 to 99999\n",
      "Data columns (total 5 columns):\n",
      " #   Column   Non-Null Count   Dtype  \n",
      "---  ------   --------------   -----  \n",
      " 0   id       100000 non-null  object \n",
      " 1   f0       100000 non-null  float64\n",
      " 2   f1       100000 non-null  float64\n",
      " 3   f2       100000 non-null  float64\n",
      " 4   product  100000 non-null  float64\n",
      "dtypes: float64(4), object(1)\n",
      "memory usage: 3.8+ MB\n",
      "\n",
      "<class 'pandas.core.frame.DataFrame'>\n",
      "RangeIndex: 100000 entries, 0 to 99999\n",
      "Data columns (total 5 columns):\n",
      " #   Column   Non-Null Count   Dtype  \n",
      "---  ------   --------------   -----  \n",
      " 0   id       100000 non-null  object \n",
      " 1   f0       100000 non-null  float64\n",
      " 2   f1       100000 non-null  float64\n",
      " 3   f2       100000 non-null  float64\n",
      " 4   product  100000 non-null  float64\n",
      "dtypes: float64(4), object(1)\n",
      "memory usage: 3.8+ MB\n",
      "\n"
     ]
    }
   ],
   "source": [
    "for table in [reg_1, reg_2, reg_3]:\n",
    "    table.info()\n",
    "    print()"
   ]
  },
  {
   "cell_type": "markdown",
   "metadata": {},
   "source": [
    "__Данные загрузили__"
   ]
  },
  {
   "cell_type": "markdown",
   "metadata": {},
   "source": [
    "### Предобработка данных"
   ]
  },
  {
   "cell_type": "code",
   "execution_count": 5,
   "metadata": {
    "scrolled": true
   },
   "outputs": [
    {
     "name": "stdout",
     "output_type": "stream",
     "text": [
      "Проверка на явные дубли: 0\n",
      "Проверка на явные дубли: 0\n",
      "Проверка на явные дубли: 0\n"
     ]
    }
   ],
   "source": [
    "for df in [reg_1, reg_2, reg_3]:\n",
    "    print('Проверка на явные дубли:', df.duplicated().sum())"
   ]
  },
  {
   "cell_type": "code",
   "execution_count": 6,
   "metadata": {},
   "outputs": [
    {
     "data": {
      "text/plain": [
       "99996"
      ]
     },
     "execution_count": 6,
     "metadata": {},
     "output_type": "execute_result"
    }
   ],
   "source": [
    "reg_3['id'].nunique()"
   ]
  },
  {
   "cell_type": "code",
   "execution_count": 7,
   "metadata": {
    "scrolled": true
   },
   "outputs": [
    {
     "name": "stdout",
     "output_type": "stream",
     "text": [
      "99990\n",
      "\n",
      "99996\n",
      "\n",
      "99996\n",
      "\n"
     ]
    }
   ],
   "source": [
    "for df in [reg_1, reg_2, reg_3]:\n",
    "    print(df['id'].nunique())\n",
    "    print()"
   ]
  },
  {
   "cell_type": "markdown",
   "metadata": {},
   "source": [
    "__В таблицах по 100 000 строк, нет явных дублей, однако, есть повторяющиеся уникальные идентификаторы скважин.__"
   ]
  },
  {
   "cell_type": "code",
   "execution_count": 8,
   "metadata": {},
   "outputs": [
    {
     "data": {
      "text/html": [
       "<div>\n",
       "<style scoped>\n",
       "    .dataframe tbody tr th:only-of-type {\n",
       "        vertical-align: middle;\n",
       "    }\n",
       "\n",
       "    .dataframe tbody tr th {\n",
       "        vertical-align: top;\n",
       "    }\n",
       "\n",
       "    .dataframe thead th {\n",
       "        text-align: right;\n",
       "    }\n",
       "</style>\n",
       "<table border=\"1\" class=\"dataframe\">\n",
       "  <thead>\n",
       "    <tr style=\"text-align: right;\">\n",
       "      <th></th>\n",
       "      <th>id</th>\n",
       "      <th>f0</th>\n",
       "      <th>f1</th>\n",
       "      <th>f2</th>\n",
       "      <th>product</th>\n",
       "    </tr>\n",
       "  </thead>\n",
       "  <tbody>\n",
       "    <tr>\n",
       "      <th>66136</th>\n",
       "      <td>74z30</td>\n",
       "      <td>1.084962</td>\n",
       "      <td>-0.312358</td>\n",
       "      <td>6.990771</td>\n",
       "      <td>127.643327</td>\n",
       "    </tr>\n",
       "    <tr>\n",
       "      <th>64022</th>\n",
       "      <td>74z30</td>\n",
       "      <td>0.741456</td>\n",
       "      <td>0.459229</td>\n",
       "      <td>5.153109</td>\n",
       "      <td>140.771492</td>\n",
       "    </tr>\n",
       "    <tr>\n",
       "      <th>51970</th>\n",
       "      <td>A5aEY</td>\n",
       "      <td>-0.180335</td>\n",
       "      <td>0.935548</td>\n",
       "      <td>-2.094773</td>\n",
       "      <td>33.020205</td>\n",
       "    </tr>\n",
       "    <tr>\n",
       "      <th>3389</th>\n",
       "      <td>A5aEY</td>\n",
       "      <td>-0.039949</td>\n",
       "      <td>0.156872</td>\n",
       "      <td>0.209861</td>\n",
       "      <td>89.249364</td>\n",
       "    </tr>\n",
       "    <tr>\n",
       "      <th>69163</th>\n",
       "      <td>AGS9W</td>\n",
       "      <td>-0.933795</td>\n",
       "      <td>0.116194</td>\n",
       "      <td>-3.655896</td>\n",
       "      <td>19.230453</td>\n",
       "    </tr>\n",
       "    <tr>\n",
       "      <th>42529</th>\n",
       "      <td>AGS9W</td>\n",
       "      <td>1.454747</td>\n",
       "      <td>-0.479651</td>\n",
       "      <td>0.683380</td>\n",
       "      <td>126.370504</td>\n",
       "    </tr>\n",
       "    <tr>\n",
       "      <th>931</th>\n",
       "      <td>HZww2</td>\n",
       "      <td>0.755284</td>\n",
       "      <td>0.368511</td>\n",
       "      <td>1.863211</td>\n",
       "      <td>30.681774</td>\n",
       "    </tr>\n",
       "    <tr>\n",
       "      <th>7530</th>\n",
       "      <td>HZww2</td>\n",
       "      <td>1.061194</td>\n",
       "      <td>-0.373969</td>\n",
       "      <td>10.430210</td>\n",
       "      <td>158.828695</td>\n",
       "    </tr>\n",
       "    <tr>\n",
       "      <th>63593</th>\n",
       "      <td>QcMuo</td>\n",
       "      <td>0.635635</td>\n",
       "      <td>-0.473422</td>\n",
       "      <td>0.862670</td>\n",
       "      <td>64.578675</td>\n",
       "    </tr>\n",
       "    <tr>\n",
       "      <th>1949</th>\n",
       "      <td>QcMuo</td>\n",
       "      <td>0.506563</td>\n",
       "      <td>-0.323775</td>\n",
       "      <td>-2.215583</td>\n",
       "      <td>75.496502</td>\n",
       "    </tr>\n",
       "    <tr>\n",
       "      <th>75715</th>\n",
       "      <td>Tdehs</td>\n",
       "      <td>0.112079</td>\n",
       "      <td>0.430296</td>\n",
       "      <td>3.218993</td>\n",
       "      <td>60.964018</td>\n",
       "    </tr>\n",
       "    <tr>\n",
       "      <th>21426</th>\n",
       "      <td>Tdehs</td>\n",
       "      <td>0.829407</td>\n",
       "      <td>0.298807</td>\n",
       "      <td>-0.049563</td>\n",
       "      <td>96.035308</td>\n",
       "    </tr>\n",
       "    <tr>\n",
       "      <th>92341</th>\n",
       "      <td>TtcGQ</td>\n",
       "      <td>0.110711</td>\n",
       "      <td>1.022689</td>\n",
       "      <td>0.911381</td>\n",
       "      <td>101.318008</td>\n",
       "    </tr>\n",
       "    <tr>\n",
       "      <th>60140</th>\n",
       "      <td>TtcGQ</td>\n",
       "      <td>0.569276</td>\n",
       "      <td>-0.104876</td>\n",
       "      <td>6.440215</td>\n",
       "      <td>85.350186</td>\n",
       "    </tr>\n",
       "    <tr>\n",
       "      <th>89582</th>\n",
       "      <td>bsk9y</td>\n",
       "      <td>0.398908</td>\n",
       "      <td>-0.400253</td>\n",
       "      <td>10.122376</td>\n",
       "      <td>163.433078</td>\n",
       "    </tr>\n",
       "    <tr>\n",
       "      <th>97785</th>\n",
       "      <td>bsk9y</td>\n",
       "      <td>0.378429</td>\n",
       "      <td>0.005837</td>\n",
       "      <td>0.160827</td>\n",
       "      <td>160.637302</td>\n",
       "    </tr>\n",
       "    <tr>\n",
       "      <th>41724</th>\n",
       "      <td>bxg6G</td>\n",
       "      <td>-0.823752</td>\n",
       "      <td>0.546319</td>\n",
       "      <td>3.630479</td>\n",
       "      <td>93.007798</td>\n",
       "    </tr>\n",
       "    <tr>\n",
       "      <th>1364</th>\n",
       "      <td>bxg6G</td>\n",
       "      <td>0.411645</td>\n",
       "      <td>0.856830</td>\n",
       "      <td>-3.653440</td>\n",
       "      <td>73.604260</td>\n",
       "    </tr>\n",
       "    <tr>\n",
       "      <th>16633</th>\n",
       "      <td>fiKDv</td>\n",
       "      <td>0.157341</td>\n",
       "      <td>1.028359</td>\n",
       "      <td>5.585586</td>\n",
       "      <td>95.817889</td>\n",
       "    </tr>\n",
       "    <tr>\n",
       "      <th>90815</th>\n",
       "      <td>fiKDv</td>\n",
       "      <td>0.049883</td>\n",
       "      <td>0.841313</td>\n",
       "      <td>6.394613</td>\n",
       "      <td>137.346586</td>\n",
       "    </tr>\n",
       "  </tbody>\n",
       "</table>\n",
       "</div>"
      ],
      "text/plain": [
       "          id        f0        f1         f2     product\n",
       "66136  74z30  1.084962 -0.312358   6.990771  127.643327\n",
       "64022  74z30  0.741456  0.459229   5.153109  140.771492\n",
       "51970  A5aEY -0.180335  0.935548  -2.094773   33.020205\n",
       "3389   A5aEY -0.039949  0.156872   0.209861   89.249364\n",
       "69163  AGS9W -0.933795  0.116194  -3.655896   19.230453\n",
       "42529  AGS9W  1.454747 -0.479651   0.683380  126.370504\n",
       "931    HZww2  0.755284  0.368511   1.863211   30.681774\n",
       "7530   HZww2  1.061194 -0.373969  10.430210  158.828695\n",
       "63593  QcMuo  0.635635 -0.473422   0.862670   64.578675\n",
       "1949   QcMuo  0.506563 -0.323775  -2.215583   75.496502\n",
       "75715  Tdehs  0.112079  0.430296   3.218993   60.964018\n",
       "21426  Tdehs  0.829407  0.298807  -0.049563   96.035308\n",
       "92341  TtcGQ  0.110711  1.022689   0.911381  101.318008\n",
       "60140  TtcGQ  0.569276 -0.104876   6.440215   85.350186\n",
       "89582  bsk9y  0.398908 -0.400253  10.122376  163.433078\n",
       "97785  bsk9y  0.378429  0.005837   0.160827  160.637302\n",
       "41724  bxg6G -0.823752  0.546319   3.630479   93.007798\n",
       "1364   bxg6G  0.411645  0.856830  -3.653440   73.604260\n",
       "16633  fiKDv  0.157341  1.028359   5.585586   95.817889\n",
       "90815  fiKDv  0.049883  0.841313   6.394613  137.346586"
      ]
     },
     "execution_count": 8,
     "metadata": {},
     "output_type": "execute_result"
    }
   ],
   "source": [
    "reg_1[reg_1['id'].duplicated(keep=False)].sort_values(by='id')"
   ]
  },
  {
   "cell_type": "code",
   "execution_count": 9,
   "metadata": {
    "scrolled": true
   },
   "outputs": [
    {
     "data": {
      "text/html": [
       "<div>\n",
       "<style scoped>\n",
       "    .dataframe tbody tr th:only-of-type {\n",
       "        vertical-align: middle;\n",
       "    }\n",
       "\n",
       "    .dataframe tbody tr th {\n",
       "        vertical-align: top;\n",
       "    }\n",
       "\n",
       "    .dataframe thead th {\n",
       "        text-align: right;\n",
       "    }\n",
       "</style>\n",
       "<table border=\"1\" class=\"dataframe\">\n",
       "  <thead>\n",
       "    <tr style=\"text-align: right;\">\n",
       "      <th></th>\n",
       "      <th>id</th>\n",
       "      <th>f0</th>\n",
       "      <th>f1</th>\n",
       "      <th>f2</th>\n",
       "      <th>product</th>\n",
       "    </tr>\n",
       "  </thead>\n",
       "  <tbody>\n",
       "    <tr>\n",
       "      <th>5849</th>\n",
       "      <td>5ltQ6</td>\n",
       "      <td>-3.435401</td>\n",
       "      <td>-12.296043</td>\n",
       "      <td>1.999796</td>\n",
       "      <td>57.085625</td>\n",
       "    </tr>\n",
       "    <tr>\n",
       "      <th>84461</th>\n",
       "      <td>5ltQ6</td>\n",
       "      <td>18.213839</td>\n",
       "      <td>2.191999</td>\n",
       "      <td>3.993869</td>\n",
       "      <td>107.813044</td>\n",
       "    </tr>\n",
       "    <tr>\n",
       "      <th>1305</th>\n",
       "      <td>LHZR0</td>\n",
       "      <td>11.170835</td>\n",
       "      <td>-1.945066</td>\n",
       "      <td>3.002872</td>\n",
       "      <td>80.859783</td>\n",
       "    </tr>\n",
       "    <tr>\n",
       "      <th>41906</th>\n",
       "      <td>LHZR0</td>\n",
       "      <td>-8.989672</td>\n",
       "      <td>-4.286607</td>\n",
       "      <td>2.009139</td>\n",
       "      <td>57.085625</td>\n",
       "    </tr>\n",
       "    <tr>\n",
       "      <th>2721</th>\n",
       "      <td>bfPNe</td>\n",
       "      <td>-9.494442</td>\n",
       "      <td>-5.463692</td>\n",
       "      <td>4.006042</td>\n",
       "      <td>110.992147</td>\n",
       "    </tr>\n",
       "    <tr>\n",
       "      <th>82178</th>\n",
       "      <td>bfPNe</td>\n",
       "      <td>-6.202799</td>\n",
       "      <td>-4.820045</td>\n",
       "      <td>2.995107</td>\n",
       "      <td>84.038886</td>\n",
       "    </tr>\n",
       "    <tr>\n",
       "      <th>47591</th>\n",
       "      <td>wt4Uk</td>\n",
       "      <td>-9.091098</td>\n",
       "      <td>-8.109279</td>\n",
       "      <td>-0.002314</td>\n",
       "      <td>3.179103</td>\n",
       "    </tr>\n",
       "    <tr>\n",
       "      <th>82873</th>\n",
       "      <td>wt4Uk</td>\n",
       "      <td>10.259972</td>\n",
       "      <td>-9.376355</td>\n",
       "      <td>4.994297</td>\n",
       "      <td>134.766305</td>\n",
       "    </tr>\n",
       "  </tbody>\n",
       "</table>\n",
       "</div>"
      ],
      "text/plain": [
       "          id         f0         f1        f2     product\n",
       "5849   5ltQ6  -3.435401 -12.296043  1.999796   57.085625\n",
       "84461  5ltQ6  18.213839   2.191999  3.993869  107.813044\n",
       "1305   LHZR0  11.170835  -1.945066  3.002872   80.859783\n",
       "41906  LHZR0  -8.989672  -4.286607  2.009139   57.085625\n",
       "2721   bfPNe  -9.494442  -5.463692  4.006042  110.992147\n",
       "82178  bfPNe  -6.202799  -4.820045  2.995107   84.038886\n",
       "47591  wt4Uk  -9.091098  -8.109279 -0.002314    3.179103\n",
       "82873  wt4Uk  10.259972  -9.376355  4.994297  134.766305"
      ]
     },
     "execution_count": 9,
     "metadata": {},
     "output_type": "execute_result"
    }
   ],
   "source": [
    "reg_2[reg_2['id'].duplicated(keep=False)].sort_values(by='id')"
   ]
  },
  {
   "cell_type": "code",
   "execution_count": 10,
   "metadata": {},
   "outputs": [
    {
     "data": {
      "text/html": [
       "<div>\n",
       "<style scoped>\n",
       "    .dataframe tbody tr th:only-of-type {\n",
       "        vertical-align: middle;\n",
       "    }\n",
       "\n",
       "    .dataframe tbody tr th {\n",
       "        vertical-align: top;\n",
       "    }\n",
       "\n",
       "    .dataframe thead th {\n",
       "        text-align: right;\n",
       "    }\n",
       "</style>\n",
       "<table border=\"1\" class=\"dataframe\">\n",
       "  <thead>\n",
       "    <tr style=\"text-align: right;\">\n",
       "      <th></th>\n",
       "      <th>id</th>\n",
       "      <th>f0</th>\n",
       "      <th>f1</th>\n",
       "      <th>f2</th>\n",
       "      <th>product</th>\n",
       "    </tr>\n",
       "  </thead>\n",
       "  <tbody>\n",
       "    <tr>\n",
       "      <th>45404</th>\n",
       "      <td>KUPhW</td>\n",
       "      <td>0.231846</td>\n",
       "      <td>-1.698941</td>\n",
       "      <td>4.990775</td>\n",
       "      <td>11.716299</td>\n",
       "    </tr>\n",
       "    <tr>\n",
       "      <th>55967</th>\n",
       "      <td>KUPhW</td>\n",
       "      <td>1.211150</td>\n",
       "      <td>3.176408</td>\n",
       "      <td>5.543540</td>\n",
       "      <td>132.831802</td>\n",
       "    </tr>\n",
       "    <tr>\n",
       "      <th>11449</th>\n",
       "      <td>VF7Jo</td>\n",
       "      <td>2.122656</td>\n",
       "      <td>-0.858275</td>\n",
       "      <td>5.746001</td>\n",
       "      <td>181.716817</td>\n",
       "    </tr>\n",
       "    <tr>\n",
       "      <th>49564</th>\n",
       "      <td>VF7Jo</td>\n",
       "      <td>-0.883115</td>\n",
       "      <td>0.560537</td>\n",
       "      <td>0.723601</td>\n",
       "      <td>136.233420</td>\n",
       "    </tr>\n",
       "    <tr>\n",
       "      <th>44378</th>\n",
       "      <td>Vcm5J</td>\n",
       "      <td>-1.229484</td>\n",
       "      <td>-2.439204</td>\n",
       "      <td>1.222909</td>\n",
       "      <td>137.968290</td>\n",
       "    </tr>\n",
       "    <tr>\n",
       "      <th>95090</th>\n",
       "      <td>Vcm5J</td>\n",
       "      <td>2.587702</td>\n",
       "      <td>1.986875</td>\n",
       "      <td>2.482245</td>\n",
       "      <td>92.327572</td>\n",
       "    </tr>\n",
       "    <tr>\n",
       "      <th>28039</th>\n",
       "      <td>xCHr8</td>\n",
       "      <td>1.633027</td>\n",
       "      <td>0.368135</td>\n",
       "      <td>-2.378367</td>\n",
       "      <td>6.120525</td>\n",
       "    </tr>\n",
       "    <tr>\n",
       "      <th>43233</th>\n",
       "      <td>xCHr8</td>\n",
       "      <td>-0.847066</td>\n",
       "      <td>2.101796</td>\n",
       "      <td>5.597130</td>\n",
       "      <td>184.388641</td>\n",
       "    </tr>\n",
       "  </tbody>\n",
       "</table>\n",
       "</div>"
      ],
      "text/plain": [
       "          id        f0        f1        f2     product\n",
       "45404  KUPhW  0.231846 -1.698941  4.990775   11.716299\n",
       "55967  KUPhW  1.211150  3.176408  5.543540  132.831802\n",
       "11449  VF7Jo  2.122656 -0.858275  5.746001  181.716817\n",
       "49564  VF7Jo -0.883115  0.560537  0.723601  136.233420\n",
       "44378  Vcm5J -1.229484 -2.439204  1.222909  137.968290\n",
       "95090  Vcm5J  2.587702  1.986875  2.482245   92.327572\n",
       "28039  xCHr8  1.633027  0.368135 -2.378367    6.120525\n",
       "43233  xCHr8 -0.847066  2.101796  5.597130  184.388641"
      ]
     },
     "execution_count": 10,
     "metadata": {},
     "output_type": "execute_result"
    }
   ],
   "source": [
    "reg_3[reg_3['id'].duplicated(keep=False)].sort_values(by='id')"
   ]
  },
  {
   "cell_type": "markdown",
   "metadata": {},
   "source": [
    "__Так как данные синтетические, предлагаю использовать только индексы в качестве скважин.__"
   ]
  },
  {
   "cell_type": "code",
   "execution_count": 11,
   "metadata": {},
   "outputs": [],
   "source": [
    "for df in [reg_1, reg_2, reg_3]:\n",
    "    df = df.drop(columns='id')"
   ]
  },
  {
   "cell_type": "code",
   "execution_count": 12,
   "metadata": {},
   "outputs": [],
   "source": [
    "reg_1 = reg_1.drop(columns='id')\n",
    "reg_2 = reg_2.drop(columns='id')\n",
    "reg_3 = reg_3.drop(columns='id')"
   ]
  },
  {
   "cell_type": "code",
   "execution_count": 13,
   "metadata": {
    "scrolled": true
   },
   "outputs": [
    {
     "data": {
      "text/html": [
       "<div>\n",
       "<style scoped>\n",
       "    .dataframe tbody tr th:only-of-type {\n",
       "        vertical-align: middle;\n",
       "    }\n",
       "\n",
       "    .dataframe tbody tr th {\n",
       "        vertical-align: top;\n",
       "    }\n",
       "\n",
       "    .dataframe thead th {\n",
       "        text-align: right;\n",
       "    }\n",
       "</style>\n",
       "<table border=\"1\" class=\"dataframe\">\n",
       "  <thead>\n",
       "    <tr style=\"text-align: right;\">\n",
       "      <th></th>\n",
       "      <th>f0</th>\n",
       "      <th>f1</th>\n",
       "      <th>f2</th>\n",
       "      <th>product</th>\n",
       "    </tr>\n",
       "  </thead>\n",
       "  <tbody>\n",
       "    <tr>\n",
       "      <th>0</th>\n",
       "      <td>0.705745</td>\n",
       "      <td>-0.497823</td>\n",
       "      <td>1.221170</td>\n",
       "      <td>105.280062</td>\n",
       "    </tr>\n",
       "    <tr>\n",
       "      <th>1</th>\n",
       "      <td>1.334711</td>\n",
       "      <td>-0.340164</td>\n",
       "      <td>4.365080</td>\n",
       "      <td>73.037750</td>\n",
       "    </tr>\n",
       "    <tr>\n",
       "      <th>2</th>\n",
       "      <td>1.022732</td>\n",
       "      <td>0.151990</td>\n",
       "      <td>1.419926</td>\n",
       "      <td>85.265647</td>\n",
       "    </tr>\n",
       "    <tr>\n",
       "      <th>3</th>\n",
       "      <td>-0.032172</td>\n",
       "      <td>0.139033</td>\n",
       "      <td>2.978566</td>\n",
       "      <td>168.620776</td>\n",
       "    </tr>\n",
       "    <tr>\n",
       "      <th>4</th>\n",
       "      <td>1.988431</td>\n",
       "      <td>0.155413</td>\n",
       "      <td>4.751769</td>\n",
       "      <td>154.036647</td>\n",
       "    </tr>\n",
       "  </tbody>\n",
       "</table>\n",
       "</div>"
      ],
      "text/plain": [
       "         f0        f1        f2     product\n",
       "0  0.705745 -0.497823  1.221170  105.280062\n",
       "1  1.334711 -0.340164  4.365080   73.037750\n",
       "2  1.022732  0.151990  1.419926   85.265647\n",
       "3 -0.032172  0.139033  2.978566  168.620776\n",
       "4  1.988431  0.155413  4.751769  154.036647"
      ]
     },
     "execution_count": 13,
     "metadata": {},
     "output_type": "execute_result"
    }
   ],
   "source": [
    "reg_1.head()"
   ]
  },
  {
   "cell_type": "markdown",
   "metadata": {},
   "source": [
    "### Исследовательский анализ данных"
   ]
  },
  {
   "cell_type": "code",
   "execution_count": 14,
   "metadata": {},
   "outputs": [],
   "source": [
    "def exploratory_analysis(df):\n",
    "    cols = df.select_dtypes(include=['float64']).columns\n",
    "    for i in cols:\n",
    "        fig, (ax1, ax2) = plt.subplots(nrows=1, ncols=2, figsize=(10, 5))\n",
    "        bins= ax1.hist(x=df[i])\n",
    "        ax1.vlines(x=df[i].mean(), colors='red', ymin=bins[0].min(), ymax=bins[0].max(), label='Среднее')\n",
    "        ax1.vlines(x=df[i].median(), colors='red', ymin=bins[0].min(), ymax=bins[0].max(), linestyles='--', label='Медиана')\n",
    "        ax1.set_title(f'Гистограмма распределения: {i}')\n",
    "        ax1.set_xlabel('Значения')\n",
    "        ax1.set_ylabel('Частота')\n",
    "        ax1.legend(loc='upper right', framealpha=0.3)\n",
    "        \n",
    "        ax2.boxplot(df[i], vert=False)\n",
    "        ax2.set_title(f'Boxplot: {i}')\n",
    "        ax2.set_xlabel('Значения')\n",
    "        ax2.set_yticks([])\n",
    "        y = np.ones_like(df[i])  \n",
    "        ax2.scatter(df[i], y, color='blue', alpha=0.5, label='Значения')\n",
    "        ax2.legend(loc='upper right')\n",
    "        \n",
    "        \n",
    "        plt.show()"
   ]
  },
  {
   "cell_type": "code",
   "execution_count": 15,
   "metadata": {
    "scrolled": true
   },
   "outputs": [
    {
     "data": {
      "image/png": "[encoded data removed]",
      "text/plain": [
       "<Figure size 720x360 with 2 Axes>"
      ]
     },
     "metadata": {
      "needs_background": "light"
     },
     "output_type": "display_data"
    },
    {
     "data": {
      "image/png": "[encoded data removed]",
      "text/plain": [
       "<Figure size 720x360 with 2 Axes>"
      ]
     },
     "metadata": {
      "needs_background": "light"
     },
     "output_type": "display_data"
    },
    {
     "data": {
      "image/png": "[encoded data removed]",
      "text/plain": [
       "<Figure size 720x360 with 2 Axes>"
      ]
     },
     "metadata": {
      "needs_background": "light"
     },
     "output_type": "display_data"
    },
    {
     "data": {
      "image/png": "[encoded data removed]",
      "text/plain": [
       "<Figure size 720x360 with 2 Axes>"
      ]
     },
     "metadata": {
      "needs_background": "light"
     },
     "output_type": "display_data"
    }
   ],
   "source": [
    "exploratory_analysis(reg_1)"
   ]
  },
  {
   "cell_type": "code",
   "execution_count": 16,
   "metadata": {},
   "outputs": [
    {
     "data": {
      "text/html": [
       "<div>\n",
       "<style scoped>\n",
       "    .dataframe tbody tr th:only-of-type {\n",
       "        vertical-align: middle;\n",
       "    }\n",
       "\n",
       "    .dataframe tbody tr th {\n",
       "        vertical-align: top;\n",
       "    }\n",
       "\n",
       "    .dataframe thead th {\n",
       "        text-align: right;\n",
       "    }\n",
       "</style>\n",
       "<table border=\"1\" class=\"dataframe\">\n",
       "  <thead>\n",
       "    <tr style=\"text-align: right;\">\n",
       "      <th></th>\n",
       "      <th>f0</th>\n",
       "      <th>f1</th>\n",
       "      <th>f2</th>\n",
       "      <th>product</th>\n",
       "    </tr>\n",
       "  </thead>\n",
       "  <tbody>\n",
       "    <tr>\n",
       "      <th>count</th>\n",
       "      <td>100000.000000</td>\n",
       "      <td>100000.000000</td>\n",
       "      <td>100000.000000</td>\n",
       "      <td>100000.000000</td>\n",
       "    </tr>\n",
       "    <tr>\n",
       "      <th>mean</th>\n",
       "      <td>0.500419</td>\n",
       "      <td>0.250143</td>\n",
       "      <td>2.502647</td>\n",
       "      <td>92.500000</td>\n",
       "    </tr>\n",
       "    <tr>\n",
       "      <th>std</th>\n",
       "      <td>0.871832</td>\n",
       "      <td>0.504433</td>\n",
       "      <td>3.248248</td>\n",
       "      <td>44.288691</td>\n",
       "    </tr>\n",
       "    <tr>\n",
       "      <th>min</th>\n",
       "      <td>-1.408605</td>\n",
       "      <td>-0.848218</td>\n",
       "      <td>-12.088328</td>\n",
       "      <td>0.000000</td>\n",
       "    </tr>\n",
       "    <tr>\n",
       "      <th>25%</th>\n",
       "      <td>-0.072580</td>\n",
       "      <td>-0.200881</td>\n",
       "      <td>0.287748</td>\n",
       "      <td>56.497507</td>\n",
       "    </tr>\n",
       "    <tr>\n",
       "      <th>50%</th>\n",
       "      <td>0.502360</td>\n",
       "      <td>0.250252</td>\n",
       "      <td>2.515969</td>\n",
       "      <td>91.849972</td>\n",
       "    </tr>\n",
       "    <tr>\n",
       "      <th>75%</th>\n",
       "      <td>1.073581</td>\n",
       "      <td>0.700646</td>\n",
       "      <td>4.715088</td>\n",
       "      <td>128.564089</td>\n",
       "    </tr>\n",
       "    <tr>\n",
       "      <th>max</th>\n",
       "      <td>2.362331</td>\n",
       "      <td>1.343769</td>\n",
       "      <td>16.003790</td>\n",
       "      <td>185.364347</td>\n",
       "    </tr>\n",
       "  </tbody>\n",
       "</table>\n",
       "</div>"
      ],
      "text/plain": [
       "                  f0             f1             f2        product\n",
       "count  100000.000000  100000.000000  100000.000000  100000.000000\n",
       "mean        0.500419       0.250143       2.502647      92.500000\n",
       "std         0.871832       0.504433       3.248248      44.288691\n",
       "min        -1.408605      -0.848218     -12.088328       0.000000\n",
       "25%        -0.072580      -0.200881       0.287748      56.497507\n",
       "50%         0.502360       0.250252       2.515969      91.849972\n",
       "75%         1.073581       0.700646       4.715088     128.564089\n",
       "max         2.362331       1.343769      16.003790     185.364347"
      ]
     },
     "execution_count": 16,
     "metadata": {},
     "output_type": "execute_result"
    }
   ],
   "source": [
    "reg_1.describe()"
   ]
  },
  {
   "cell_type": "markdown",
   "metadata": {},
   "source": [
    "__Итак в регионе 1:__\n",
    "- f0 среднее равно медиане 0,5 , распределение почти симетричное с несколькими пиками. Выбросов нет\n",
    "- f1 среднее равно медиане, 0,25, распределение  симетричное с несколькими пиками. Выбросов нет\n",
    "- f2 среднее почти равно медиане 2,5 , распределение почти нормальное, имееются выбросы с обоих сторон. \n",
    "- product целевой признак среднее почти равно медиане 92, распределение похоже на нормальное, выбросов нет"
   ]
  },
  {
   "cell_type": "code",
   "execution_count": 17,
   "metadata": {
    "scrolled": true
   },
   "outputs": [
    {
     "data": {
      "image/png": "[encoded data removed]",
      "text/plain": [
       "<Figure size 720x360 with 2 Axes>"
      ]
     },
     "metadata": {
      "needs_background": "light"
     },
     "output_type": "display_data"
    },
    {
     "data": {
      "image/png": "[encoded data removed]",
      "text/plain": [
       "<Figure size 720x360 with 2 Axes>"
      ]
     },
     "metadata": {
      "needs_background": "light"
     },
     "output_type": "display_data"
    },
    {
     "data": {
      "image/png": "[encoded data removed]",
      "text/plain": [
       "<Figure size 720x360 with 2 Axes>"
      ]
     },
     "metadata": {
      "needs_background": "light"
     },
     "output_type": "display_data"
    },
    {
     "data": {
      "image/png": "[encoded data removed]",
      "text/plain": [
       "<Figure size 720x360 with 2 Axes>"
      ]
     },
     "metadata": {
      "needs_background": "light"
     },
     "output_type": "display_data"
    }
   ],
   "source": [
    "exploratory_analysis(reg_2)"
   ]
  },
  {
   "cell_type": "code",
   "execution_count": 18,
   "metadata": {
    "scrolled": true
   },
   "outputs": [
    {
     "data": {
      "text/html": [
       "<div>\n",
       "<style scoped>\n",
       "    .dataframe tbody tr th:only-of-type {\n",
       "        vertical-align: middle;\n",
       "    }\n",
       "\n",
       "    .dataframe tbody tr th {\n",
       "        vertical-align: top;\n",
       "    }\n",
       "\n",
       "    .dataframe thead th {\n",
       "        text-align: right;\n",
       "    }\n",
       "</style>\n",
       "<table border=\"1\" class=\"dataframe\">\n",
       "  <thead>\n",
       "    <tr style=\"text-align: right;\">\n",
       "      <th></th>\n",
       "      <th>f0</th>\n",
       "      <th>f1</th>\n",
       "      <th>f2</th>\n",
       "      <th>product</th>\n",
       "    </tr>\n",
       "  </thead>\n",
       "  <tbody>\n",
       "    <tr>\n",
       "      <th>count</th>\n",
       "      <td>100000.000000</td>\n",
       "      <td>100000.000000</td>\n",
       "      <td>100000.000000</td>\n",
       "      <td>100000.000000</td>\n",
       "    </tr>\n",
       "    <tr>\n",
       "      <th>mean</th>\n",
       "      <td>1.141296</td>\n",
       "      <td>-4.796579</td>\n",
       "      <td>2.494541</td>\n",
       "      <td>68.825000</td>\n",
       "    </tr>\n",
       "    <tr>\n",
       "      <th>std</th>\n",
       "      <td>8.965932</td>\n",
       "      <td>5.119872</td>\n",
       "      <td>1.703572</td>\n",
       "      <td>45.944423</td>\n",
       "    </tr>\n",
       "    <tr>\n",
       "      <th>min</th>\n",
       "      <td>-31.609576</td>\n",
       "      <td>-26.358598</td>\n",
       "      <td>-0.018144</td>\n",
       "      <td>0.000000</td>\n",
       "    </tr>\n",
       "    <tr>\n",
       "      <th>25%</th>\n",
       "      <td>-6.298551</td>\n",
       "      <td>-8.267985</td>\n",
       "      <td>1.000021</td>\n",
       "      <td>26.953261</td>\n",
       "    </tr>\n",
       "    <tr>\n",
       "      <th>50%</th>\n",
       "      <td>1.153055</td>\n",
       "      <td>-4.813172</td>\n",
       "      <td>2.011479</td>\n",
       "      <td>57.085625</td>\n",
       "    </tr>\n",
       "    <tr>\n",
       "      <th>75%</th>\n",
       "      <td>8.621015</td>\n",
       "      <td>-1.332816</td>\n",
       "      <td>3.999904</td>\n",
       "      <td>107.813044</td>\n",
       "    </tr>\n",
       "    <tr>\n",
       "      <th>max</th>\n",
       "      <td>29.421755</td>\n",
       "      <td>18.734063</td>\n",
       "      <td>5.019721</td>\n",
       "      <td>137.945408</td>\n",
       "    </tr>\n",
       "  </tbody>\n",
       "</table>\n",
       "</div>"
      ],
      "text/plain": [
       "                  f0             f1             f2        product\n",
       "count  100000.000000  100000.000000  100000.000000  100000.000000\n",
       "mean        1.141296      -4.796579       2.494541      68.825000\n",
       "std         8.965932       5.119872       1.703572      45.944423\n",
       "min       -31.609576     -26.358598      -0.018144       0.000000\n",
       "25%        -6.298551      -8.267985       1.000021      26.953261\n",
       "50%         1.153055      -4.813172       2.011479      57.085625\n",
       "75%         8.621015      -1.332816       3.999904     107.813044\n",
       "max        29.421755      18.734063       5.019721     137.945408"
      ]
     },
     "execution_count": 18,
     "metadata": {},
     "output_type": "execute_result"
    }
   ],
   "source": [
    "reg_2.describe()"
   ]
  },
  {
   "cell_type": "markdown",
   "metadata": {},
   "source": [
    "__Регион 2__\n",
    "- f0 среднее равно медиане 1,14, есть выбросы слева, распределение почти симметричное с нескольки пиками\n",
    "- f1 среднне почти равно медиане -4,8 , выбросы с обоих сторон, распредление почти симметричное\n",
    "- f2 среднее больше медианы 2,49 против 2,01, выбросов нет, распределение с множеством пик\n",
    "- product целевой распределен бимодально, среднее больше медианы, 68.8 против 57.08, выбросов нет"
   ]
  },
  {
   "cell_type": "code",
   "execution_count": 19,
   "metadata": {
    "scrolled": true
   },
   "outputs": [
    {
     "data": {
      "image/png": "[encoded data removed]",
      "text/plain": [
       "<Figure size 720x360 with 2 Axes>"
      ]
     },
     "metadata": {
      "needs_background": "light"
     },
     "output_type": "display_data"
    },
    {
     "data": {
      "image/png": "[encoded data removed]",
      "text/plain": [
       "<Figure size 720x360 with 2 Axes>"
      ]
     },
     "metadata": {
      "needs_background": "light"
     },
     "output_type": "display_data"
    },
    {
     "data": {
      "image/png": "[encoded data removed]",
      "text/plain": [
       "<Figure size 720x360 with 2 Axes>"
      ]
     },
     "metadata": {
      "needs_background": "light"
     },
     "output_type": "display_data"
    },
    {
     "data": {
      "image/png": "[encoded data removed]",
      "text/plain": [
       "<Figure size 720x360 with 2 Axes>"
      ]
     },
     "metadata": {
      "needs_background": "light"
     },
     "output_type": "display_data"
    }
   ],
   "source": [
    "exploratory_analysis(reg_3)"
   ]
  },
  {
   "cell_type": "code",
   "execution_count": 20,
   "metadata": {
    "scrolled": true
   },
   "outputs": [
    {
     "data": {
      "text/html": [
       "<div>\n",
       "<style scoped>\n",
       "    .dataframe tbody tr th:only-of-type {\n",
       "        vertical-align: middle;\n",
       "    }\n",
       "\n",
       "    .dataframe tbody tr th {\n",
       "        vertical-align: top;\n",
       "    }\n",
       "\n",
       "    .dataframe thead th {\n",
       "        text-align: right;\n",
       "    }\n",
       "</style>\n",
       "<table border=\"1\" class=\"dataframe\">\n",
       "  <thead>\n",
       "    <tr style=\"text-align: right;\">\n",
       "      <th></th>\n",
       "      <th>f0</th>\n",
       "      <th>f1</th>\n",
       "      <th>f2</th>\n",
       "      <th>product</th>\n",
       "    </tr>\n",
       "  </thead>\n",
       "  <tbody>\n",
       "    <tr>\n",
       "      <th>count</th>\n",
       "      <td>100000.000000</td>\n",
       "      <td>100000.000000</td>\n",
       "      <td>100000.000000</td>\n",
       "      <td>100000.000000</td>\n",
       "    </tr>\n",
       "    <tr>\n",
       "      <th>mean</th>\n",
       "      <td>0.002023</td>\n",
       "      <td>-0.002081</td>\n",
       "      <td>2.495128</td>\n",
       "      <td>95.000000</td>\n",
       "    </tr>\n",
       "    <tr>\n",
       "      <th>std</th>\n",
       "      <td>1.732045</td>\n",
       "      <td>1.730417</td>\n",
       "      <td>3.473445</td>\n",
       "      <td>44.749921</td>\n",
       "    </tr>\n",
       "    <tr>\n",
       "      <th>min</th>\n",
       "      <td>-8.760004</td>\n",
       "      <td>-7.084020</td>\n",
       "      <td>-11.970335</td>\n",
       "      <td>0.000000</td>\n",
       "    </tr>\n",
       "    <tr>\n",
       "      <th>25%</th>\n",
       "      <td>-1.162288</td>\n",
       "      <td>-1.174820</td>\n",
       "      <td>0.130359</td>\n",
       "      <td>59.450441</td>\n",
       "    </tr>\n",
       "    <tr>\n",
       "      <th>50%</th>\n",
       "      <td>0.009424</td>\n",
       "      <td>-0.009482</td>\n",
       "      <td>2.484236</td>\n",
       "      <td>94.925613</td>\n",
       "    </tr>\n",
       "    <tr>\n",
       "      <th>75%</th>\n",
       "      <td>1.158535</td>\n",
       "      <td>1.163678</td>\n",
       "      <td>4.858794</td>\n",
       "      <td>130.595027</td>\n",
       "    </tr>\n",
       "    <tr>\n",
       "      <th>max</th>\n",
       "      <td>7.238262</td>\n",
       "      <td>7.844801</td>\n",
       "      <td>16.739402</td>\n",
       "      <td>190.029838</td>\n",
       "    </tr>\n",
       "  </tbody>\n",
       "</table>\n",
       "</div>"
      ],
      "text/plain": [
       "                  f0             f1             f2        product\n",
       "count  100000.000000  100000.000000  100000.000000  100000.000000\n",
       "mean        0.002023      -0.002081       2.495128      95.000000\n",
       "std         1.732045       1.730417       3.473445      44.749921\n",
       "min        -8.760004      -7.084020     -11.970335       0.000000\n",
       "25%        -1.162288      -1.174820       0.130359      59.450441\n",
       "50%         0.009424      -0.009482       2.484236      94.925613\n",
       "75%         1.158535       1.163678       4.858794     130.595027\n",
       "max         7.238262       7.844801      16.739402     190.029838"
      ]
     },
     "execution_count": 20,
     "metadata": {},
     "output_type": "execute_result"
    }
   ],
   "source": [
    "reg_3.describe()"
   ]
  },
  {
   "cell_type": "markdown",
   "metadata": {},
   "source": [
    "__Регион 3__:\n",
    "- f0 распределение почти нормальное, среднее немного меньше медианы 0,002 против 0,01, есть выбросы с обоих сторон\n",
    "- f1 среднее -0,002 против -0,009 медианы, выбросы с обоих сторон.\n",
    "- f2 распределение почти нормальое, среднее равно медиане 2,49, выбросы с обоих сторон\n",
    "- product целевой распределение почти нормальое, среднее равно медиане 95, выброов нет"
   ]
  },
  {
   "cell_type": "markdown",
   "metadata": {},
   "source": [
    "__В ходе исследовательского анализа выявлено:__\n",
    "- Входные и целевые признаки по разному распределены и имеют разный разброс значений по 3м регионам."
   ]
  },
  {
   "cell_type": "markdown",
   "metadata": {},
   "source": [
    "### Корреляционный анализ"
   ]
  },
  {
   "cell_type": "markdown",
   "metadata": {},
   "source": [
    "Так как по условию задачи указано использовать только линейную регрессию, проверим коефициенты Пирсона, а не Фик"
   ]
  },
  {
   "cell_type": "code",
   "execution_count": 21,
   "metadata": {
    "scrolled": true
   },
   "outputs": [
    {
     "data": {
      "image/png": "[encoded data removed]",
      "text/plain": [
       "<Figure size 576x432 with 2 Axes>"
      ]
     },
     "metadata": {
      "needs_background": "light"
     },
     "output_type": "display_data"
    },
    {
     "data": {
      "image/png": "[encoded data removed]",
      "text/plain": [
       "<Figure size 576x432 with 2 Axes>"
      ]
     },
     "metadata": {
      "needs_background": "light"
     },
     "output_type": "display_data"
    },
    {
     "data": {
      "image/png": "[encoded data removed]",
      "text/plain": [
       "<Figure size 576x432 with 2 Axes>"
      ]
     },
     "metadata": {
      "needs_background": "light"
     },
     "output_type": "display_data"
    }
   ],
   "source": [
    "for df in [reg_1, reg_2, reg_3]:\n",
    "    corr_mtrx = df.corr()\n",
    "    plt.figure(figsize=(8, 6))\n",
    "    sns.heatmap(corr_mtrx, annot=True, cmap='coolwarm', fmt='.2f', linewidths=0.5)\n",
    "    plt.title('Корреляционная матрица (тепловая карта)')\n",
    "    plt.show()"
   ]
  },
  {
   "cell_type": "markdown",
   "metadata": {},
   "source": [
    "__Анализ на линейные связи:__\n",
    "- reg_1 целевой признак имеет слабую связь с f0, f1 и почти заметную с f2 \n",
    "- reg_2 целевой признак имеет абсолютный коефициент корреляции пирсона с f2\n",
    "- reg_3 целевой признак имеет умеренную связь с f2 согласно шкале Чеддока"
   ]
  },
  {
   "cell_type": "markdown",
   "metadata": {},
   "source": [
    "Мультиколлинераность отсутсвует"
   ]
  },
  {
   "cell_type": "markdown",
   "metadata": {},
   "source": [
    "\n",
    "<div class=\"alert alert-block alert-success\">\n",
    "<b>Успех:</b> Данные осмотрены хорошо, особенно радует, что изучены корреляции, так как мы планируем использовать линейные модели, а для них это важно. \n",
    "</div>\n",
    "<div class=\"alert alert-block alert-info\">\n",
    "<b>Совет:</b>  Советую обратить внимание на библиотеки sweetviz и ydata_profiling помогут в проведении более тщательного EDA анализа. Исследовательский анализ можно делать и с помощью ручного вызова функций дефолтных библиотек. Данные библиотеки хороши для максимизации комфорта презентации результатов анализа бизнес-пользователям.  \n",
    "\n",
    "Очень просты в использоовании, на вход кладется датафрейм: ydata_profiling.ProfileReport(df) \n",
    "</div>"
   ]
  },
  {
   "cell_type": "markdown",
   "metadata": {},
   "source": [
    "<div class=\"alert alert-block alert-warning\">\n",
    "<b>Комментарий студента:</b> Привет! Ок, спасибо, посмотрю\n",
    "</div>"
   ]
  },
  {
   "cell_type": "markdown",
   "metadata": {},
   "source": [
    "\n",
    "<div class=\"alert alert-block alert-success\">\n",
    "    \n",
    "<b>Успех[2]:</b> Главное во время обучения не злоупотреблять, чтобы руки не забыл как делать EDA анализ)\n",
    "</div>\n"
   ]
  },
  {
   "cell_type": "markdown",
   "metadata": {},
   "source": [
    "## Обучение и проверка модели"
   ]
  },
  {
   "cell_type": "markdown",
   "metadata": {},
   "source": [
    "Зафиксируем константы"
   ]
  },
  {
   "cell_type": "code",
   "execution_count": 22,
   "metadata": {},
   "outputs": [],
   "source": [
    "RANDOM_STATE = 42\n",
    "VALID_SIZE = 0.25"
   ]
  },
  {
   "cell_type": "markdown",
   "metadata": {},
   "source": [
    "Создадим функцию по обработке данных, используем StandardScaler для масштабирования входных признаков."
   ]
  },
  {
   "cell_type": "code",
   "execution_count": 23,
   "metadata": {},
   "outputs": [],
   "source": [
    "def prepare_data(df):\n",
    "    X = df.drop(columns='product')\n",
    "    y = df['product']\n",
    "    X_train, X_valid, y_train, y_valid = train_test_split(\n",
    "        X,\n",
    "        y,\n",
    "        test_size=VALID_SIZE,\n",
    "        random_state=RANDOM_STATE)\n",
    "    \n",
    "    scaler = StandardScaler()\n",
    "    X_train = scaler.fit_transform(X_train)\n",
    "    X_valid = scaler.transform(X_valid)\n",
    "    X_train = pd.DataFrame(X_train, columns=X.columns)\n",
    "    X_valid = pd.DataFrame(X_valid, columns=X.columns)\n",
    "    \n",
    "    return X_train, X_valid, y_train, y_valid"
   ]
  },
  {
   "cell_type": "markdown",
   "metadata": {},
   "source": [
    "\n",
    "<div class=\"alert alert-block alert-success\">\n",
    "<b>Успех:</b> Хороший помощник! Масштабирование проведено корректно\n",
    "</div"
   ]
  },
  {
   "cell_type": "markdown",
   "metadata": {},
   "source": [
    "__Region 1__"
   ]
  },
  {
   "cell_type": "code",
   "execution_count": 24,
   "metadata": {
    "scrolled": true
   },
   "outputs": [],
   "source": [
    "X_train_1, X_valid_1, y_train_1, y_valid_1 = prepare_data(reg_1)"
   ]
  },
  {
   "cell_type": "code",
   "execution_count": 25,
   "metadata": {
    "scrolled": true
   },
   "outputs": [
    {
     "data": {
      "text/plain": [
       "((75000, 3), (25000, 3), (75000,), (25000,))"
      ]
     },
     "execution_count": 25,
     "metadata": {},
     "output_type": "execute_result"
    }
   ],
   "source": [
    "X_train_1.shape, X_valid_1.shape, y_train_1.shape, y_valid_1.shape\n"
   ]
  },
  {
   "cell_type": "markdown",
   "metadata": {},
   "source": [
    "Регуляризацию предлагаю не использовать, так как входных признаков всего 3."
   ]
  },
  {
   "cell_type": "code",
   "execution_count": 26,
   "metadata": {},
   "outputs": [
    {
     "name": "stdout",
     "output_type": "stream",
     "text": [
      "Средний запас предсказанного сырья в валидационной выборке 92.4\n",
      "RMSE равен 37.76\n"
     ]
    }
   ],
   "source": [
    "model_1 = LinearRegression()\n",
    "model_1.fit(X_train_1, y_train_1)\n",
    "pred_1 = model_1.predict(X_valid_1)\n",
    "print(f'Средний запас предсказанного сырья в валидационной выборке {round(pred_1.mean(),2)}')\n",
    "print(f'RMSE равен {round(mean_squared_error(y_valid_1, pred_1,squared=False),2)}')"
   ]
  },
  {
   "cell_type": "markdown",
   "metadata": {},
   "source": [
    "__Region 2__"
   ]
  },
  {
   "cell_type": "code",
   "execution_count": 27,
   "metadata": {},
   "outputs": [],
   "source": [
    "X_train_2, X_valid_2, y_train_2, y_valid_2 = prepare_data(reg_2)"
   ]
  },
  {
   "cell_type": "code",
   "execution_count": 28,
   "metadata": {},
   "outputs": [
    {
     "name": "stdout",
     "output_type": "stream",
     "text": [
      "Средний запас предсказанного сырья в валидационной выборке модели  68.71\n",
      "RMSE равен 0.89\n"
     ]
    }
   ],
   "source": [
    "model_2 = LinearRegression()\n",
    "model_2.fit(X_train_2, y_train_2)\n",
    "pred_2 = model_2.predict(X_valid_2)\n",
    "print(f'Средний запас предсказанного сырья в валидационной выборке модели  {round(pred_2.mean(),2)}')\n",
    "print(f'RMSE равен {round(mean_squared_error(y_valid_2, pred_2,squared=False),2)}')"
   ]
  },
  {
   "cell_type": "markdown",
   "metadata": {},
   "source": [
    "__Region 3__"
   ]
  },
  {
   "cell_type": "code",
   "execution_count": 29,
   "metadata": {},
   "outputs": [],
   "source": [
    "X_train_3, X_valid_3, y_train_3, y_valid_3 = prepare_data(reg_3)"
   ]
  },
  {
   "cell_type": "code",
   "execution_count": 30,
   "metadata": {},
   "outputs": [
    {
     "name": "stdout",
     "output_type": "stream",
     "text": [
      "Средний запас предсказанного сырья в валидационной выборке модели  94.77\n",
      "RMSE равен 40.15\n"
     ]
    }
   ],
   "source": [
    "model_3 = LinearRegression()\n",
    "model_3.fit(X_train_3, y_train_3)\n",
    "pred_3 = model_3.predict(X_valid_3)\n",
    "print(f'Средний запас предсказанного сырья в валидационной выборке модели  {round(pred_3.mean(),2)}')\n",
    "print(f'RMSE равен {round(mean_squared_error(y_valid_3, pred_3,squared=False),2)}')"
   ]
  },
  {
   "cell_type": "markdown",
   "metadata": {},
   "source": [
    "__Модели обучены, метрики выведены. очевидно, что RMSE модели 2 почти равен 0 из за высокой корреляции ф2 и целевого признака__"
   ]
  },
  {
   "cell_type": "markdown",
   "metadata": {},
   "source": [
    "\n",
    "<div class=\"alert alert-block alert-success\">\n",
    "<b>Успех:</b> Шаг проделан лаконично, все метрики посчитаны корректно\n",
    "</div> \n",
    "\n"
   ]
  },
  {
   "cell_type": "markdown",
   "metadata": {},
   "source": [
    "## Подготовка к расчёту прибыли\n",
    "- Все ключевые значения для расчётов сохраните в отдельных переменных.\n",
    "- Рассчитайте достаточный объём сырья для безубыточной разработки новой скважины. Сравните полученный объём сырья со средним запасом в каждом регионе. "
   ]
  },
  {
   "cell_type": "markdown",
   "metadata": {},
   "source": [
    "- Итак, объем product уже указан в тысячах баррелей, поэтому доход с каждой единицы продукта составляет 450 тыс. рублей\n",
    "- При разведке региона исследуют 500 точек, из которых с помощью машинного обучения выбирают 200 лучших для разработки.\n",
    "- Бюджет на разработку скважин в регионе — 10 млрд рублей."
   ]
  },
  {
   "cell_type": "markdown",
   "metadata": {},
   "source": [
    "выручка с барреля (миллионов рублей):"
   ]
  },
  {
   "cell_type": "code",
   "execution_count": 31,
   "metadata": {},
   "outputs": [],
   "source": [
    "rev_per_barrel = 0.45"
   ]
  },
  {
   "cell_type": "markdown",
   "metadata": {},
   "source": [
    "Бюджет на разработку в регионе(миллионов рублей)"
   ]
  },
  {
   "cell_type": "code",
   "execution_count": 32,
   "metadata": {},
   "outputs": [],
   "source": [
    "budget_per_reg = 10000"
   ]
  },
  {
   "cell_type": "markdown",
   "metadata": {},
   "source": [
    "\n",
    "<div class=\"alert alert-block alert-info\">\n",
    "    \n",
    "<b>Совет:</b> Константы принято записывать в ВЕРХНЕМ РЕГИСТРЕ =) Читем здесь https://pythonworld.ru/osnovy/pep-8-rukovodstvo-po-napisaniyu-koda-na-python.html#section-29\n",
    "    \n",
    "А большие значение можно записывать так: `10_000`.\n",
    "</div> \n",
    "\n"
   ]
  },
  {
   "cell_type": "markdown",
   "metadata": {},
   "source": [
    "<div class=\"alert alert-block alert-warning\">\n",
    "<b>Комментарий студента:</b> Ок, спасибо, буду иметь в виду\n",
    "</div>"
   ]
  },
  {
   "cell_type": "markdown",
   "metadata": {},
   "source": [
    "Следовательно бюджет на скважину миллионов рублей:"
   ]
  },
  {
   "cell_type": "code",
   "execution_count": 33,
   "metadata": {
    "scrolled": true
   },
   "outputs": [
    {
     "data": {
      "text/plain": [
       "50.0"
      ]
     },
     "execution_count": 33,
     "metadata": {},
     "output_type": "execute_result"
    }
   ],
   "source": [
    "budget_per_id = budget_per_reg/200\n",
    "budget_per_id"
   ]
  },
  {
   "cell_type": "markdown",
   "metadata": {},
   "source": [
    "Минимальный объем сырья (тысяч баррелей) для безубыточной добычи на одной скважине:"
   ]
  },
  {
   "cell_type": "code",
   "execution_count": 34,
   "metadata": {},
   "outputs": [
    {
     "data": {
      "text/plain": [
       "111.11"
      ]
     },
     "execution_count": 34,
     "metadata": {},
     "output_type": "execute_result"
    }
   ],
   "source": [
    "min_product = round(50/rev_per_barrel,2)\n",
    "min_product"
   ]
  },
  {
   "cell_type": "markdown",
   "metadata": {},
   "source": [
    "Минимальный объем сырья (тысяч баррелей) для безубыточной добычи на 200ста скважинах в регионе:"
   ]
  },
  {
   "cell_type": "code",
   "execution_count": 35,
   "metadata": {},
   "outputs": [
    {
     "data": {
      "text/plain": [
       "22222.0"
      ]
     },
     "execution_count": 35,
     "metadata": {},
     "output_type": "execute_result"
    }
   ],
   "source": [
    "min_pr_reg_200 = min_product*200\n",
    "min_pr_reg_200"
   ]
  },
  {
   "cell_type": "code",
   "execution_count": 36,
   "metadata": {},
   "outputs": [
    {
     "name": "stdout",
     "output_type": "stream",
     "text": [
      "92.50000000000001\n",
      "68.82500000000002\n",
      "95.00000000000004\n"
     ]
    }
   ],
   "source": [
    "for df in [reg_1, reg_2, reg_3]:\n",
    "    print (df['product'].mean())"
   ]
  },
  {
   "cell_type": "markdown",
   "metadata": {},
   "source": [
    "- Минимальный требуемый средний объем сырья со скважины в регионе для безубыточной добычи является 111,11 тысяч баррелей.\n",
    "- Если взять средний объем продукта по 3м регионам, то средний объем по всем скважинам в регионе меньше требуемого минимума. \n",
    "- Соответвенно необходим отбор 200 скважин в регионе с наибольшей добычей с минимумом 111,11 тысяч баррелей."
   ]
  },
  {
   "cell_type": "markdown",
   "metadata": {},
   "source": [
    "<div class=\"alert alert-block alert-success\">\n",
    "<b>Успех:</b> Значение для безубыточной разработки посчитано верно, с выводом согласен  \n",
    "</div>\n"
   ]
  },
  {
   "cell_type": "markdown",
   "metadata": {},
   "source": [
    "## Расчёт прибыли"
   ]
  },
  {
   "cell_type": "markdown",
   "metadata": {},
   "source": [
    "Подготовим датафреймы для 3х регионов"
   ]
  },
  {
   "cell_type": "code",
   "execution_count": 37,
   "metadata": {
    "scrolled": true
   },
   "outputs": [],
   "source": [
    "valid_df_1 = pd.concat([X_valid_1, y_valid_1.reset_index(drop=True)], axis=1)\n",
    "valid_df_1['pr_pred'] = pred_1\n",
    "\n",
    "valid_df_2 = pd.concat([X_valid_2, y_valid_2.reset_index(drop=True)], axis=1)\n",
    "valid_df_2['pr_pred'] = pred_2\n",
    "\n",
    "valid_df_3 = pd.concat([X_valid_3, y_valid_3.reset_index(drop=True)], axis=1)\n",
    "valid_df_3['pr_pred'] = pred_3"
   ]
  },
  {
   "cell_type": "code",
   "execution_count": 38,
   "metadata": {},
   "outputs": [],
   "source": [
    "def rev_calc(df):\n",
    "    df_sorted = df.sort_values(by='pr_pred', ascending=False).head(200)\n",
    "    prod = round(df_sorted['product'].sum(), 2)\n",
    "    prod_mean = round(df_sorted['product'].mean(),2)\n",
    "    rev = round(prod * rev_per_barrel,2)\n",
    "    rev_mean = round(prod_mean * rev_per_barrel,2)\n",
    "    \n",
    "    \n",
    "    \n",
    "    print(f'Фактическая добыча по 200 отобранным моделью скважинам в регионе составляет {prod} тысяч баррелей\\n'\n",
    "          f'Средний объем добычи со скважины {prod_mean}\\n'\n",
    "          f'Фактическая выручка от добычи в регионе по скважинам отобранным моделью составляет {rev} млн.руб.\\n'\n",
    "          f'Средняя выручка со скважины {rev_mean} млн.руб. \\n'\n",
    "          f'Прибыль по региону составит {round(rev - budget_per_reg,2)} млн.руб.')\n",
    "    "
   ]
  },
  {
   "cell_type": "markdown",
   "metadata": {},
   "source": [
    "__Region 1__"
   ]
  },
  {
   "cell_type": "code",
   "execution_count": 39,
   "metadata": {
    "scrolled": true
   },
   "outputs": [
    {
     "name": "stdout",
     "output_type": "stream",
     "text": [
      "Фактическая добыча по 200 отобранным моделью скважинам в регионе составляет 29686.98 тысяч баррелей\n",
      "Средний объем добычи со скважины 148.43\n",
      "Фактическая выручка от добычи в регионе по скважинам отобранным моделью составляет 13359.14 млн.руб.\n",
      "Средняя выручка со скважины 66.79 млн.руб. \n",
      "Прибыль по региону составит 3359.14 млн.руб.\n"
     ]
    }
   ],
   "source": [
    "rev_calc(valid_df_1)"
   ]
  },
  {
   "cell_type": "markdown",
   "metadata": {},
   "source": [
    "__Region 2__"
   ]
  },
  {
   "cell_type": "code",
   "execution_count": 40,
   "metadata": {},
   "outputs": [
    {
     "name": "stdout",
     "output_type": "stream",
     "text": [
      "Фактическая добыча по 200 отобранным моделью скважинам в регионе составляет 27589.08 тысяч баррелей\n",
      "Средний объем добычи со скважины 137.95\n",
      "Фактическая выручка от добычи в регионе по скважинам отобранным моделью составляет 12415.09 млн.руб.\n",
      "Средняя выручка со скважины 62.08 млн.руб. \n",
      "Прибыль по региону составит 2415.09 млн.руб.\n"
     ]
    }
   ],
   "source": [
    "rev_calc(valid_df_2)"
   ]
  },
  {
   "cell_type": "markdown",
   "metadata": {},
   "source": [
    "__Region 3__"
   ]
  },
  {
   "cell_type": "code",
   "execution_count": 41,
   "metadata": {
    "scrolled": true
   },
   "outputs": [
    {
     "name": "stdout",
     "output_type": "stream",
     "text": [
      "Фактическая добыча по 200 отобранным моделью скважинам в регионе составляет 27996.83 тысяч баррелей\n",
      "Средний объем добычи со скважины 139.98\n",
      "Фактическая выручка от добычи в регионе по скважинам отобранным моделью составляет 12598.57 млн.руб.\n",
      "Средняя выручка со скважины 62.99 млн.руб. \n",
      "Прибыль по региону составит 2598.57 млн.руб.\n"
     ]
    }
   ],
   "source": [
    "rev_calc(valid_df_3)"
   ]
  },
  {
   "cell_type": "markdown",
   "metadata": {},
   "source": [
    "__Вывод__:\n",
    "- С помощью моделей линейной регрессии, даже не смотря на относительно не высокую точность первой и третьей модели\n",
    "- По всем трем регионам модель отобрала скважины, которые выводят добычу в регионах на безубыточную.\n",
    "- Подробнее выше\n"
   ]
  },
  {
   "cell_type": "markdown",
   "metadata": {},
   "source": [
    "## Посчитайте риски и прибыль для каждого региона"
   ]
  },
  {
   "cell_type": "markdown",
   "metadata": {},
   "source": [
    "### Примените технику Bootstrap с 1000 выборок, чтобы найти распределение прибыли."
   ]
  },
  {
   "cell_type": "markdown",
   "metadata": {},
   "source": [
    "\n",
    "<div class=\"alert alert-block alert-danger\">\n",
    "<b>Ошибка:</b>  Тебе не нужно заранее сортировать данные и считать прибыль. Это нужно делать во время бутстрапа, сначала случайным образм отбираем 500 скважин, среди них находим 200 лучших по предсказаниям и считаем прибыль по таргетам."
   ]
  },
  {
   "cell_type": "code",
   "execution_count": 43,
   "metadata": {},
   "outputs": [],
   "source": [
    "STATE = np.random.RandomState(12345)"
   ]
  },
  {
   "cell_type": "code",
   "execution_count": 50,
   "metadata": {},
   "outputs": [],
   "source": [
    "def bootstrap(df):\n",
    "    values = []\n",
    "    for i in range(1000):\n",
    "        subsample = df.sample(n=500, replace=True, random_state=STATE)\n",
    "        subsample = subsample.sort_values(by='pr_pred', ascending=False).head(200)\n",
    "        profit_per_reg = subsample['product'].sum() * rev_per_barrel - budget_per_reg\n",
    "        values.append(profit_per_reg)\n",
    "    return values            \n",
    "        "
   ]
  },
  {
   "cell_type": "code",
   "execution_count": 51,
   "metadata": {},
   "outputs": [],
   "source": [
    "profits_per_reg_1 = bootstrap(valid_df_1)\n",
    "profits_per_reg_2 = bootstrap(valid_df_2)\n",
    "profits_per_reg_3 = bootstrap(valid_df_3)"
   ]
  },
  {
   "cell_type": "markdown",
   "metadata": {},
   "source": [
    "__Итак, сохранили полученные значения прибыли по 3м регионам в млн.рублей, используя технику bootstrap.__"
   ]
  },
  {
   "cell_type": "markdown",
   "metadata": {},
   "source": [
    "\n",
    "<div class=\"alert alert-block alert-danger\">\n",
    "<b>Ошибка\n",
    "    :</b>  Как сказал выше, здесь работаем не с прибылью, а с объемом сырья. На каждой итерации нужно отбирать 500 скважин, то есть frac должен быть другой"
   ]
  },
  {
   "cell_type": "markdown",
   "metadata": {},
   "source": [
    "<div class=\"alert alert-block alert-warning\">\n",
    "<b>Комментарий студента:</b> понял, исправил выше\n",
    "</div>"
   ]
  },
  {
   "cell_type": "markdown",
   "metadata": {},
   "source": [
    "\n",
    "<div class=\"alert alert-block alert-success\">\n",
    "    \n",
    "<b>Успех[2]:</b> Есть контакт\n",
    "</div>\n"
   ]
  },
  {
   "cell_type": "markdown",
   "metadata": {},
   "source": [
    "### Найдите среднюю прибыль, 95%-й доверительный интервал и риск убытков. Убыток — это отрицательная прибыль."
   ]
  },
  {
   "cell_type": "markdown",
   "metadata": {},
   "source": [
    "Создадим функцию для рассчетов. Так как выше мы создали лист с листами бутсрепом, нужно развенуть все в 1 лист"
   ]
  },
  {
   "cell_type": "code",
   "execution_count": 54,
   "metadata": {},
   "outputs": [],
   "source": [
    "def bootstrap_explore(list):\n",
    "    #list = np.concatenate(bootstrap_samples).tolist()\n",
    "    plt.hist(list)\n",
    "    plt.title('Гитограмма распределения прибылей по региону с бутстрепом 1000')\n",
    "    plt.xlabel('Прибыль (млн.руб)')\n",
    "    plt.ylabel('Частота')\n",
    "    plt.show()\n",
    "    mean = round(np.mean(list),2)\n",
    "    print(f'Средняя прибыль: {mean}млн.руб')\n",
    "    lower = round(np.percentile(list, 2.5), 2)\n",
    "    upper = round(np.percentile(list, 97.5), 2)\n",
    "    print(f'95% процентов значений прибыли находятся между {lower}млн.руб и  {upper}млн.руб')\n",
    "    risk = np.count_nonzero(np.array(list) < 0) / len(list)\n",
    "    print(f'Риск убытков: {risk:.2%}')"
   ]
  },
  {
   "cell_type": "markdown",
   "metadata": {},
   "source": [
    "<div class=\"alert alert-block alert-success\">\n",
    "<b>Успех:</b> Метрики на первый взгляд считаются верным образом\n"
   ]
  },
  {
   "cell_type": "markdown",
   "metadata": {},
   "source": [
    "__Регион 1__"
   ]
  },
  {
   "cell_type": "code",
   "execution_count": 55,
   "metadata": {},
   "outputs": [
    {
     "data": {
      "image/png": "[encoded data removed]",
      "text/plain": [
       "<Figure size 432x288 with 1 Axes>"
      ]
     },
     "metadata": {
      "needs_background": "light"
     },
     "output_type": "display_data"
    },
    {
     "name": "stdout",
     "output_type": "stream",
     "text": [
      "Средняя прибыль: 407.19млн.руб\n",
      "95% процентов значений прибыли находятся между -110.05млн.руб и  915.06млн.руб\n",
      "Риск убытков: 6.10%\n"
     ]
    }
   ],
   "source": [
    "bootstrap_explore(profits_per_reg_1)"
   ]
  },
  {
   "cell_type": "markdown",
   "metadata": {},
   "source": [
    "__Регион 2__"
   ]
  },
  {
   "cell_type": "code",
   "execution_count": 56,
   "metadata": {
    "scrolled": true
   },
   "outputs": [
    {
     "data": {
      "image/png": "[encoded data removed]",
      "text/plain": [
       "<Figure size 432x288 with 1 Axes>"
      ]
     },
     "metadata": {
      "needs_background": "light"
     },
     "output_type": "display_data"
    },
    {
     "name": "stdout",
     "output_type": "stream",
     "text": [
      "Средняя прибыль: 442.63млн.руб\n",
      "95% процентов значений прибыли находятся между 21.77млн.руб и  820.18млн.руб\n",
      "Риск убытков: 1.90%\n"
     ]
    }
   ],
   "source": [
    "bootstrap_explore(profits_per_reg_2)"
   ]
  },
  {
   "cell_type": "markdown",
   "metadata": {},
   "source": [
    "__Регион 3__"
   ]
  },
  {
   "cell_type": "code",
   "execution_count": 57,
   "metadata": {},
   "outputs": [
    {
     "data": {
      "image/png": "[encoded data removed]",
      "text/plain": [
       "<Figure size 432x288 with 1 Axes>"
      ]
     },
     "metadata": {
      "needs_background": "light"
     },
     "output_type": "display_data"
    },
    {
     "name": "stdout",
     "output_type": "stream",
     "text": [
      "Средняя прибыль: 387.1млн.руб\n",
      "95% процентов значений прибыли находятся между -134.46млн.руб и  889.79млн.руб\n",
      "Риск убытков: 6.60%\n"
     ]
    }
   ],
   "source": [
    "bootstrap_explore(profits_per_reg_3)"
   ]
  },
  {
   "cell_type": "markdown",
   "metadata": {},
   "source": [
    "__Промежуточный вывод__:\n",
    "- Проведя анализ выше, можно утвержать, что регион 2 наименее привлекателен для разработки. Наивысшая средняя прибыль по региону с применением бустрепа с 1000 итераций 443 млн. руб, риск убытков наименьший, 1.9%. 95% процентов значений прибыли находятся между 21.77млн.руб и  820.18млн.руб. Однако, необходимо все же проверить исходные данные, так как и корреляция у f2 с целевым в данном регионе абсолютная.\n",
    "- Регион 1 и регион 3 уступают региону 2.  Риск убытков между 6-7%. Подробнее выше."
   ]
  },
  {
   "cell_type": "markdown",
   "metadata": {},
   "source": [
    "## Итоговый вывод"
   ]
  },
  {
   "cell_type": "markdown",
   "metadata": {},
   "source": [
    "- В ходе работ были выполнены:\n",
    "    - предобработка и исследовательский анализ данных по скважинам в трех предоставленных регионах\n",
    "    - корреляционный анализ данных\n",
    "    - были обучены модели МО линейной регрессии для трех регионов и оцены по метрике RMSE\n",
    "    - отобраны 200 скважин с наилучшими предсказаниями моделями в 3х регионах\n",
    "    - рассчитана прибыль по отобранным скважинам\n",
    "    - методом bootstrap проанализирована прибыльность и вероятность убытков, выбран регион.\n",
    "- В заключение\n",
    "    - методы МО продемонстировали себя обнадеживающе и положительно, без прогнозирования добычи и ранжирования скважин моделями, отобрать прибыльные крайне трудно, так как средняя добыча по всем скважинам меньше требуемого минимума для выхода в плюс.\n",
    "    - МО же напротив, сокращает риск убытков до 2% на примере региона 2 и отбирает 200 скважин со средней прибылью 443 млн. руб по региону."
   ]
  },
  {
   "cell_type": "markdown",
   "metadata": {},
   "source": [
    "\n",
    "\n",
    "\n",
    "<div class=\"alert alert-block alert-info\">\n",
    "<b>Совет: </b>\n",
    "    \n",
    "Не забудь обновить выводы, если потребуется\n",
    "</div>                                                              \n"
   ]
  },
  {
   "cell_type": "markdown",
   "metadata": {},
   "source": [
    "<div class=\"alert alert-block alert-warning\">\n",
    "<b>Комментарий студента:</b> Обновил\n",
    "</div>"
   ]
  },
  {
   "cell_type": "markdown",
   "metadata": {},
   "source": [
    "<div class=\"alert alert-block alert-success\">\n",
    "<b>Успех[2]:</b> Отлично, проведено детальное исследование и был выбран правильный регион!\n",
    "</div>\n",
    "\n",
    "\n",
    "\n",
    "<div class=\"alert alert-block alert-info\">\n",
    "<b>Совет[2]: </b> Если интересно изучить тему бутстрапа глубже - я оставлю  ниже несколько интересных и полезных ссылок по теме:\n",
    "        \n",
    "1. \"Bootstrap Hypothesis Testing in Statistics with Example\" \n",
    "        \n",
    "https://www.youtube.com/watch?v=9STZ7MxkNVg\n",
    "        \n",
    "2. \"How to Calculate Bootstrap Confidence Intervals For Machine Learning Results in Python\" \n",
    "        \n",
    "https://machinelearningmastery.com/calculate-bootstrap-confidence-intervals-machine-learning-results-python/\n",
    "        \n",
    "3. \"A Gentle Introduction to the Bootstrap Method\" \n",
    "\n",
    "https://machinelearningmastery.com/a-gentle-introduction-to-the-bootstrap-method/\n",
    "        \n",
    "4. \"An Introduction to the Bootstrap Method\" \n",
    "        \n",
    "https://towardsdatascience.com/an-introduction-to-the-bootstrap-method-58bcb51b4d60#:~:text=The%20basic%20idea%20of%20bootstrap,population%20mean)%20on%20sample%20data.&amp;text=A%20sample%20from%20population%20with%20sample%20size%20n\n",
    "        \n",
    "5. \"Bootstrapping and Resampling in Statistics with Example\" \n",
    "        \n",
    "        \n",
    "https://www.youtube.com/watch?v=O_Fj4q8lgmc\n",
    "\n",
    "6. Также одна из программ на рынке по этой теме управлненеческого моделирования - AnyLogic - интересный продукт. Можешь видео из интернета посмотреть по какому-нибудь примеру с её использованием. Тогда тема управленческого моделирования и бутстрапа может по-другому лечь.\n",
    "</div>\n"
   ]
  }
 ],
 "metadata": {
  "ExecuteTimeLog": [
   {
    "duration": 1306,
    "start_time": "2024-08-29T16:19:45.084Z"
   },
   {
    "duration": 609,
    "start_time": "2024-08-29T16:20:45.890Z"
   },
   {
    "duration": 1182,
    "start_time": "2024-08-29T16:22:35.911Z"
   },
   {
    "duration": 10,
    "start_time": "2024-08-29T16:23:30.913Z"
   },
   {
    "duration": 35,
    "start_time": "2024-08-29T16:24:48.050Z"
   },
   {
    "duration": 32,
    "start_time": "2024-08-29T16:25:00.814Z"
   },
   {
    "duration": 33,
    "start_time": "2024-08-29T16:26:34.939Z"
   },
   {
    "duration": 113,
    "start_time": "2024-08-29T16:28:34.560Z"
   },
   {
    "duration": 21,
    "start_time": "2024-08-29T16:29:25.042Z"
   },
   {
    "duration": 22,
    "start_time": "2024-08-29T16:29:36.205Z"
   },
   {
    "duration": 22,
    "start_time": "2024-08-29T16:29:44.268Z"
   },
   {
    "duration": 1276,
    "start_time": "2024-08-31T16:04:13.201Z"
   },
   {
    "duration": 1781,
    "start_time": "2024-08-31T16:04:17.319Z"
   },
   {
    "duration": 11,
    "start_time": "2024-08-31T16:04:19.102Z"
   },
   {
    "duration": 36,
    "start_time": "2024-08-31T16:04:21.093Z"
   },
   {
    "duration": 10,
    "start_time": "2024-08-31T16:04:37.629Z"
   },
   {
    "duration": 55,
    "start_time": "2024-08-31T16:05:42.131Z"
   },
   {
    "duration": 56,
    "start_time": "2024-08-31T16:05:54.049Z"
   },
   {
    "duration": 25,
    "start_time": "2024-08-31T16:09:03.480Z"
   },
   {
    "duration": 36,
    "start_time": "2024-08-31T16:12:18.680Z"
   },
   {
    "duration": 26,
    "start_time": "2024-08-31T16:12:38.661Z"
   },
   {
    "duration": 8,
    "start_time": "2024-08-31T16:14:15.181Z"
   },
   {
    "duration": 33,
    "start_time": "2024-08-31T16:26:17.613Z"
   },
   {
    "duration": 39,
    "start_time": "2024-08-31T16:26:55.683Z"
   },
   {
    "duration": 6,
    "start_time": "2024-08-31T16:40:39.349Z"
   },
   {
    "duration": 9,
    "start_time": "2024-08-31T16:40:52.123Z"
   },
   {
    "duration": 6,
    "start_time": "2024-08-31T16:45:04.245Z"
   },
   {
    "duration": 96,
    "start_time": "2024-08-31T16:45:16.726Z"
   },
   {
    "duration": 6,
    "start_time": "2024-08-31T16:45:28.047Z"
   },
   {
    "duration": 1511,
    "start_time": "2024-08-31T16:45:28.358Z"
   },
   {
    "duration": 1518,
    "start_time": "2024-09-01T08:22:33.413Z"
   },
   {
    "duration": 7,
    "start_time": "2024-09-01T08:22:48.947Z"
   },
   {
    "duration": 36,
    "start_time": "2024-09-01T08:22:52.939Z"
   },
   {
    "duration": 1569,
    "start_time": "2024-09-01T08:33:51.345Z"
   },
   {
    "duration": 39,
    "start_time": "2024-09-01T08:50:38.505Z"
   },
   {
    "duration": 1648,
    "start_time": "2024-09-01T09:00:04.742Z"
   },
   {
    "duration": 45,
    "start_time": "2024-09-01T09:00:23.287Z"
   },
   {
    "duration": 75,
    "start_time": "2024-09-01T09:10:46.794Z"
   },
   {
    "duration": 13,
    "start_time": "2024-09-01T09:16:06.104Z"
   },
   {
    "duration": 18,
    "start_time": "2024-09-01T09:16:13.272Z"
   },
   {
    "duration": 11,
    "start_time": "2024-09-01T09:17:48.448Z"
   },
   {
    "duration": 12,
    "start_time": "2024-09-01T09:17:55.490Z"
   },
   {
    "duration": 367,
    "start_time": "2024-09-01T09:18:18.839Z"
   },
   {
    "duration": 3,
    "start_time": "2024-09-01T09:18:42.881Z"
   },
   {
    "duration": 304,
    "start_time": "2024-09-01T09:18:43.287Z"
   },
   {
    "duration": 488,
    "start_time": "2024-09-01T09:19:07.007Z"
   },
   {
    "duration": 0,
    "start_time": "2024-09-01T09:19:07.497Z"
   },
   {
    "duration": 475,
    "start_time": "2024-09-01T09:19:56.953Z"
   },
   {
    "duration": 303,
    "start_time": "2024-09-01T09:19:57.527Z"
   },
   {
    "duration": 11,
    "start_time": "2024-09-01T09:20:22.704Z"
   },
   {
    "duration": 304,
    "start_time": "2024-09-01T09:20:23.542Z"
   },
   {
    "duration": 945,
    "start_time": "2024-09-01T12:11:52.484Z"
   },
   {
    "duration": 321,
    "start_time": "2024-09-01T13:08:37.871Z"
   },
   {
    "duration": 1316,
    "start_time": "2024-09-02T11:26:46.260Z"
   },
   {
    "duration": 254,
    "start_time": "2024-09-02T11:26:47.579Z"
   },
   {
    "duration": 995,
    "start_time": "2024-09-02T11:26:47.835Z"
   },
   {
    "duration": 13,
    "start_time": "2024-09-02T11:26:48.832Z"
   },
   {
    "duration": 39,
    "start_time": "2024-09-02T11:26:48.847Z"
   },
   {
    "duration": 132,
    "start_time": "2024-09-02T11:26:48.888Z"
   },
   {
    "duration": 24,
    "start_time": "2024-09-02T11:26:49.022Z"
   },
   {
    "duration": 88,
    "start_time": "2024-09-02T11:26:49.048Z"
   },
   {
    "duration": 34,
    "start_time": "2024-09-02T11:26:49.138Z"
   },
   {
    "duration": 52,
    "start_time": "2024-09-02T11:26:49.174Z"
   },
   {
    "duration": 33,
    "start_time": "2024-09-02T11:26:49.227Z"
   },
   {
    "duration": 32,
    "start_time": "2024-09-02T11:26:49.262Z"
   },
   {
    "duration": 11,
    "start_time": "2024-09-02T11:26:49.295Z"
   },
   {
    "duration": 7,
    "start_time": "2024-09-02T11:26:49.308Z"
   },
   {
    "duration": 1784,
    "start_time": "2024-09-02T11:26:49.316Z"
   },
   {
    "duration": 53,
    "start_time": "2024-09-02T11:26:51.102Z"
   },
   {
    "duration": 1867,
    "start_time": "2024-09-02T11:26:51.157Z"
   },
   {
    "duration": 39,
    "start_time": "2024-09-02T11:26:53.026Z"
   },
   {
    "duration": 1853,
    "start_time": "2024-09-02T11:26:53.067Z"
   },
   {
    "duration": 39,
    "start_time": "2024-09-02T11:26:54.922Z"
   },
   {
    "duration": 1075,
    "start_time": "2024-09-02T11:26:54.963Z"
   },
   {
    "duration": 8,
    "start_time": "2024-09-02T11:30:08.086Z"
   },
   {
    "duration": 13,
    "start_time": "2024-09-02T11:34:32.374Z"
   },
   {
    "duration": 11,
    "start_time": "2024-09-02T11:35:08.731Z"
   },
   {
    "duration": 1226,
    "start_time": "2024-09-02T11:37:29.713Z"
   },
   {
    "duration": 242,
    "start_time": "2024-09-02T11:37:30.941Z"
   },
   {
    "duration": 409,
    "start_time": "2024-09-02T11:37:31.185Z"
   },
   {
    "duration": 13,
    "start_time": "2024-09-02T11:37:31.597Z"
   },
   {
    "duration": 133,
    "start_time": "2024-09-02T11:37:31.611Z"
   },
   {
    "duration": 157,
    "start_time": "2024-09-02T11:37:31.745Z"
   },
   {
    "duration": 33,
    "start_time": "2024-09-02T11:37:31.904Z"
   },
   {
    "duration": 68,
    "start_time": "2024-09-02T11:37:31.938Z"
   },
   {
    "duration": 38,
    "start_time": "2024-09-02T11:37:32.021Z"
   },
   {
    "duration": 47,
    "start_time": "2024-09-02T11:37:32.061Z"
   },
   {
    "duration": 76,
    "start_time": "2024-09-02T11:37:32.110Z"
   },
   {
    "duration": 33,
    "start_time": "2024-09-02T11:37:39.449Z"
   },
   {
    "duration": 13,
    "start_time": "2024-09-02T11:37:45.735Z"
   },
   {
    "duration": 9,
    "start_time": "2024-09-02T11:37:46.558Z"
   },
   {
    "duration": 6,
    "start_time": "2024-09-02T11:38:37.655Z"
   },
   {
    "duration": 9,
    "start_time": "2024-09-02T11:38:38.604Z"
   },
   {
    "duration": 6,
    "start_time": "2024-09-02T11:39:13.626Z"
   },
   {
    "duration": 8,
    "start_time": "2024-09-02T11:39:15.184Z"
   },
   {
    "duration": 117,
    "start_time": "2024-09-02T11:39:31.096Z"
   },
   {
    "duration": 53,
    "start_time": "2024-09-02T11:39:51.885Z"
   },
   {
    "duration": 1165,
    "start_time": "2024-09-02T11:39:58.273Z"
   },
   {
    "duration": 237,
    "start_time": "2024-09-02T11:39:59.440Z"
   },
   {
    "duration": 443,
    "start_time": "2024-09-02T11:39:59.679Z"
   },
   {
    "duration": 19,
    "start_time": "2024-09-02T11:40:00.125Z"
   },
   {
    "duration": 79,
    "start_time": "2024-09-02T11:40:00.146Z"
   },
   {
    "duration": 153,
    "start_time": "2024-09-02T11:40:00.226Z"
   },
   {
    "duration": 27,
    "start_time": "2024-09-02T11:40:00.381Z"
   },
   {
    "duration": 94,
    "start_time": "2024-09-02T11:40:00.410Z"
   },
   {
    "duration": 54,
    "start_time": "2024-09-02T11:40:00.506Z"
   },
   {
    "duration": 84,
    "start_time": "2024-09-02T11:40:00.562Z"
   },
   {
    "duration": 139,
    "start_time": "2024-09-02T11:40:00.648Z"
   },
   {
    "duration": 25,
    "start_time": "2024-09-02T11:40:03.282Z"
   },
   {
    "duration": 12,
    "start_time": "2024-09-02T11:40:05.100Z"
   },
   {
    "duration": 9,
    "start_time": "2024-09-02T11:40:07.689Z"
   },
   {
    "duration": 7,
    "start_time": "2024-09-02T11:40:30.778Z"
   },
   {
    "duration": 9,
    "start_time": "2024-09-02T11:40:34.086Z"
   },
   {
    "duration": 16,
    "start_time": "2024-09-02T11:41:08.365Z"
   },
   {
    "duration": 9,
    "start_time": "2024-09-02T11:41:10.134Z"
   },
   {
    "duration": 7,
    "start_time": "2024-09-02T11:41:26.921Z"
   },
   {
    "duration": 1746,
    "start_time": "2024-09-02T11:41:28.509Z"
   },
   {
    "duration": 37,
    "start_time": "2024-09-02T11:41:36.996Z"
   },
   {
    "duration": 1849,
    "start_time": "2024-09-02T11:41:41.438Z"
   },
   {
    "duration": 41,
    "start_time": "2024-09-02T11:41:43.779Z"
   },
   {
    "duration": 1854,
    "start_time": "2024-09-02T11:41:46.708Z"
   },
   {
    "duration": 36,
    "start_time": "2024-09-02T11:41:50.172Z"
   },
   {
    "duration": 1001,
    "start_time": "2024-09-02T11:42:06.712Z"
   },
   {
    "duration": 9,
    "start_time": "2024-09-02T11:42:16.724Z"
   },
   {
    "duration": 3,
    "start_time": "2024-09-02T12:06:31.305Z"
   },
   {
    "duration": 3,
    "start_time": "2024-09-02T12:09:44.810Z"
   },
   {
    "duration": 4,
    "start_time": "2024-09-02T12:44:01.687Z"
   },
   {
    "duration": 93,
    "start_time": "2024-09-02T12:44:16.826Z"
   },
   {
    "duration": 4,
    "start_time": "2024-09-02T12:50:45.173Z"
   },
   {
    "duration": 23,
    "start_time": "2024-09-02T12:50:45.617Z"
   },
   {
    "duration": 3,
    "start_time": "2024-09-02T12:51:05.916Z"
   },
   {
    "duration": 21,
    "start_time": "2024-09-02T12:51:06.468Z"
   },
   {
    "duration": 4,
    "start_time": "2024-09-02T12:51:13.964Z"
   },
   {
    "duration": 28,
    "start_time": "2024-09-02T12:51:14.310Z"
   },
   {
    "duration": 4,
    "start_time": "2024-09-02T12:51:21.968Z"
   },
   {
    "duration": 25,
    "start_time": "2024-09-02T12:51:22.559Z"
   },
   {
    "duration": 4,
    "start_time": "2024-09-02T12:54:12.715Z"
   },
   {
    "duration": 21,
    "start_time": "2024-09-02T12:54:13.133Z"
   },
   {
    "duration": 4,
    "start_time": "2024-09-02T13:01:04.362Z"
   },
   {
    "duration": 29,
    "start_time": "2024-09-02T13:01:04.849Z"
   },
   {
    "duration": 3,
    "start_time": "2024-09-02T13:01:11.758Z"
   },
   {
    "duration": 31,
    "start_time": "2024-09-02T13:01:12.202Z"
   },
   {
    "duration": 553,
    "start_time": "2024-09-02T13:02:40.282Z"
   },
   {
    "duration": 4,
    "start_time": "2024-09-02T13:02:57.094Z"
   },
   {
    "duration": 28,
    "start_time": "2024-09-02T13:02:58.091Z"
   },
   {
    "duration": 25,
    "start_time": "2024-09-02T13:03:16.200Z"
   },
   {
    "duration": 33,
    "start_time": "2024-09-02T13:03:42.048Z"
   },
   {
    "duration": 27,
    "start_time": "2024-09-02T13:03:48.844Z"
   },
   {
    "duration": 9,
    "start_time": "2024-09-02T13:04:05.453Z"
   },
   {
    "duration": 21,
    "start_time": "2024-09-02T13:04:59.924Z"
   },
   {
    "duration": 11,
    "start_time": "2024-09-02T13:05:01.744Z"
   },
   {
    "duration": 10,
    "start_time": "2024-09-02T13:05:09.180Z"
   },
   {
    "duration": 5,
    "start_time": "2024-09-02T13:05:17.668Z"
   },
   {
    "duration": 5,
    "start_time": "2024-09-02T13:05:25.567Z"
   },
   {
    "duration": 4,
    "start_time": "2024-09-02T13:11:38.056Z"
   },
   {
    "duration": 5,
    "start_time": "2024-09-02T13:12:07.069Z"
   },
   {
    "duration": 4,
    "start_time": "2024-09-02T16:06:21.177Z"
   },
   {
    "duration": 15,
    "start_time": "2024-09-02T16:18:03.948Z"
   },
   {
    "duration": 15,
    "start_time": "2024-09-02T16:20:16.294Z"
   },
   {
    "duration": 14,
    "start_time": "2024-09-02T16:22:09.102Z"
   },
   {
    "duration": 12,
    "start_time": "2024-09-02T16:22:23.493Z"
   },
   {
    "duration": 15,
    "start_time": "2024-09-02T16:25:02.018Z"
   },
   {
    "duration": 15,
    "start_time": "2024-09-02T16:25:29.488Z"
   },
   {
    "duration": 23,
    "start_time": "2024-09-02T16:26:49.923Z"
   },
   {
    "duration": 4,
    "start_time": "2024-09-02T16:26:58.998Z"
   },
   {
    "duration": 15,
    "start_time": "2024-09-02T16:27:30.572Z"
   },
   {
    "duration": 15,
    "start_time": "2024-09-02T16:27:44.446Z"
   },
   {
    "duration": 15,
    "start_time": "2024-09-02T16:27:49.583Z"
   },
   {
    "duration": 22,
    "start_time": "2024-09-02T16:28:25.835Z"
   },
   {
    "duration": 6,
    "start_time": "2024-09-02T16:28:34.520Z"
   },
   {
    "duration": 23,
    "start_time": "2024-09-02T16:31:31.765Z"
   },
   {
    "duration": 4,
    "start_time": "2024-09-02T16:31:49.867Z"
   },
   {
    "duration": 16,
    "start_time": "2024-09-02T16:32:31.887Z"
   },
   {
    "duration": 25,
    "start_time": "2024-09-02T16:32:42.085Z"
   },
   {
    "duration": 4,
    "start_time": "2024-09-02T16:32:42.630Z"
   },
   {
    "duration": 22,
    "start_time": "2024-09-02T16:32:43.771Z"
   },
   {
    "duration": 20,
    "start_time": "2024-09-02T16:33:19.151Z"
   },
   {
    "duration": 17,
    "start_time": "2024-09-02T16:34:03.012Z"
   },
   {
    "duration": 22,
    "start_time": "2024-09-02T16:34:21.593Z"
   },
   {
    "duration": 24,
    "start_time": "2024-09-02T16:35:08.044Z"
   },
   {
    "duration": 5,
    "start_time": "2024-09-02T19:20:21.236Z"
   },
   {
    "duration": 51,
    "start_time": "2024-09-02T19:20:40.956Z"
   },
   {
    "duration": 6,
    "start_time": "2024-09-02T19:21:04.044Z"
   },
   {
    "duration": 4,
    "start_time": "2024-09-02T19:22:44.548Z"
   },
   {
    "duration": 3,
    "start_time": "2024-09-02T19:23:23.106Z"
   },
   {
    "duration": 4,
    "start_time": "2024-09-02T19:24:00.495Z"
   },
   {
    "duration": 4,
    "start_time": "2024-09-02T19:24:16.682Z"
   },
   {
    "duration": 4,
    "start_time": "2024-09-02T19:24:38.612Z"
   },
   {
    "duration": 1469,
    "start_time": "2024-09-03T07:11:33.278Z"
   },
   {
    "duration": 266,
    "start_time": "2024-09-03T07:11:34.749Z"
   },
   {
    "duration": 1830,
    "start_time": "2024-09-03T07:11:35.017Z"
   },
   {
    "duration": 15,
    "start_time": "2024-09-03T07:11:36.848Z"
   },
   {
    "duration": 46,
    "start_time": "2024-09-03T07:11:36.865Z"
   },
   {
    "duration": 146,
    "start_time": "2024-09-03T07:11:36.912Z"
   },
   {
    "duration": 29,
    "start_time": "2024-09-03T07:11:37.060Z"
   },
   {
    "duration": 71,
    "start_time": "2024-09-03T07:11:37.104Z"
   },
   {
    "duration": 58,
    "start_time": "2024-09-03T07:11:37.177Z"
   },
   {
    "duration": 99,
    "start_time": "2024-09-03T07:11:37.237Z"
   },
   {
    "duration": 36,
    "start_time": "2024-09-03T07:11:37.338Z"
   },
   {
    "duration": 115,
    "start_time": "2024-09-03T07:11:37.376Z"
   },
   {
    "duration": 46,
    "start_time": "2024-09-03T07:11:37.492Z"
   },
   {
    "duration": 12,
    "start_time": "2024-09-03T07:11:37.542Z"
   },
   {
    "duration": 12,
    "start_time": "2024-09-03T07:11:37.556Z"
   },
   {
    "duration": 1828,
    "start_time": "2024-09-03T07:11:37.570Z"
   },
   {
    "duration": 39,
    "start_time": "2024-09-03T07:11:39.404Z"
   },
   {
    "duration": 1775,
    "start_time": "2024-09-03T07:11:39.445Z"
   },
   {
    "duration": 38,
    "start_time": "2024-09-03T07:11:41.221Z"
   },
   {
    "duration": 1875,
    "start_time": "2024-09-03T07:11:41.260Z"
   },
   {
    "duration": 37,
    "start_time": "2024-09-03T07:11:43.137Z"
   },
   {
    "duration": 1048,
    "start_time": "2024-09-03T07:11:43.175Z"
   },
   {
    "duration": 3,
    "start_time": "2024-09-03T07:11:44.224Z"
   },
   {
    "duration": 17,
    "start_time": "2024-09-03T07:11:44.228Z"
   },
   {
    "duration": 25,
    "start_time": "2024-09-03T07:11:44.247Z"
   },
   {
    "duration": 10,
    "start_time": "2024-09-03T07:11:44.274Z"
   },
   {
    "duration": 320,
    "start_time": "2024-09-03T07:11:44.286Z"
   },
   {
    "duration": 0,
    "start_time": "2024-09-03T07:11:44.608Z"
   },
   {
    "duration": 0,
    "start_time": "2024-09-03T07:11:44.609Z"
   },
   {
    "duration": 0,
    "start_time": "2024-09-03T07:11:44.611Z"
   },
   {
    "duration": 10,
    "start_time": "2024-09-03T07:11:51.633Z"
   },
   {
    "duration": 20,
    "start_time": "2024-09-03T07:11:55.672Z"
   },
   {
    "duration": 15,
    "start_time": "2024-09-03T07:11:56.241Z"
   },
   {
    "duration": 3,
    "start_time": "2024-09-03T07:13:53.922Z"
   },
   {
    "duration": 3,
    "start_time": "2024-09-03T07:14:49.361Z"
   },
   {
    "duration": 4,
    "start_time": "2024-09-03T07:16:33.049Z"
   },
   {
    "duration": 4,
    "start_time": "2024-09-03T07:21:33.229Z"
   },
   {
    "duration": 9,
    "start_time": "2024-09-03T07:21:38.139Z"
   },
   {
    "duration": 4,
    "start_time": "2024-09-03T07:21:43.575Z"
   },
   {
    "duration": 5,
    "start_time": "2024-09-03T07:22:30.097Z"
   },
   {
    "duration": 4,
    "start_time": "2024-09-03T07:22:45.053Z"
   },
   {
    "duration": 5,
    "start_time": "2024-09-03T07:25:18.476Z"
   },
   {
    "duration": 5,
    "start_time": "2024-09-03T07:26:31.067Z"
   },
   {
    "duration": 5,
    "start_time": "2024-09-03T07:26:44.741Z"
   },
   {
    "duration": 23,
    "start_time": "2024-09-03T13:40:41.431Z"
   },
   {
    "duration": 1239,
    "start_time": "2024-09-03T13:46:01.313Z"
   },
   {
    "duration": 260,
    "start_time": "2024-09-03T13:46:02.554Z"
   },
   {
    "duration": 455,
    "start_time": "2024-09-03T13:46:02.816Z"
   },
   {
    "duration": 14,
    "start_time": "2024-09-03T13:46:03.273Z"
   },
   {
    "duration": 47,
    "start_time": "2024-09-03T13:46:03.289Z"
   },
   {
    "duration": 156,
    "start_time": "2024-09-03T13:46:03.338Z"
   },
   {
    "duration": 31,
    "start_time": "2024-09-03T13:46:03.496Z"
   },
   {
    "duration": 86,
    "start_time": "2024-09-03T13:46:03.529Z"
   },
   {
    "duration": 38,
    "start_time": "2024-09-03T13:46:03.617Z"
   },
   {
    "duration": 51,
    "start_time": "2024-09-03T13:46:03.657Z"
   },
   {
    "duration": 34,
    "start_time": "2024-09-03T13:46:03.710Z"
   },
   {
    "duration": 10,
    "start_time": "2024-09-03T13:46:03.746Z"
   },
   {
    "duration": 22,
    "start_time": "2024-09-03T13:46:03.758Z"
   },
   {
    "duration": 26,
    "start_time": "2024-09-03T13:46:03.783Z"
   },
   {
    "duration": 13,
    "start_time": "2024-09-03T13:46:03.810Z"
   },
   {
    "duration": 1813,
    "start_time": "2024-09-03T13:46:03.824Z"
   },
   {
    "duration": 38,
    "start_time": "2024-09-03T13:46:05.639Z"
   },
   {
    "duration": 1885,
    "start_time": "2024-09-03T13:46:05.678Z"
   },
   {
    "duration": 55,
    "start_time": "2024-09-03T13:46:07.565Z"
   },
   {
    "duration": 1897,
    "start_time": "2024-09-03T13:46:07.622Z"
   },
   {
    "duration": 36,
    "start_time": "2024-09-03T13:46:09.521Z"
   },
   {
    "duration": 990,
    "start_time": "2024-09-03T13:46:09.558Z"
   },
   {
    "duration": 3,
    "start_time": "2024-09-03T13:46:10.550Z"
   },
   {
    "duration": 13,
    "start_time": "2024-09-03T13:46:10.555Z"
   },
   {
    "duration": 31,
    "start_time": "2024-09-03T13:46:10.569Z"
   },
   {
    "duration": 4,
    "start_time": "2024-09-03T13:46:10.605Z"
   },
   {
    "duration": 19,
    "start_time": "2024-09-03T13:46:10.611Z"
   },
   {
    "duration": 186,
    "start_time": "2024-09-03T13:46:10.631Z"
   },
   {
    "duration": 15,
    "start_time": "2024-09-03T13:46:10.819Z"
   },
   {
    "duration": 187,
    "start_time": "2024-09-03T13:46:10.836Z"
   },
   {
    "duration": 14,
    "start_time": "2024-09-03T13:46:11.025Z"
   },
   {
    "duration": 67,
    "start_time": "2024-09-03T13:46:11.041Z"
   },
   {
    "duration": 99,
    "start_time": "2024-09-03T13:46:11.110Z"
   },
   {
    "duration": 15,
    "start_time": "2024-09-03T13:46:11.211Z"
   },
   {
    "duration": 1299,
    "start_time": "2024-09-06T14:53:24.095Z"
   },
   {
    "duration": 263,
    "start_time": "2024-09-06T14:53:25.396Z"
   },
   {
    "duration": 1812,
    "start_time": "2024-09-06T14:53:25.661Z"
   },
   {
    "duration": 13,
    "start_time": "2024-09-06T14:53:27.475Z"
   },
   {
    "duration": 42,
    "start_time": "2024-09-06T14:53:27.490Z"
   },
   {
    "duration": 126,
    "start_time": "2024-09-06T14:53:27.533Z"
   },
   {
    "duration": 23,
    "start_time": "2024-09-06T14:53:27.661Z"
   },
   {
    "duration": 78,
    "start_time": "2024-09-06T14:53:27.686Z"
   },
   {
    "duration": 32,
    "start_time": "2024-09-06T14:53:27.766Z"
   },
   {
    "duration": 46,
    "start_time": "2024-09-06T14:53:27.800Z"
   },
   {
    "duration": 46,
    "start_time": "2024-09-06T14:53:27.847Z"
   },
   {
    "duration": 10,
    "start_time": "2024-09-06T14:53:27.894Z"
   },
   {
    "duration": 24,
    "start_time": "2024-09-06T14:53:27.905Z"
   },
   {
    "duration": 9,
    "start_time": "2024-09-06T14:53:27.930Z"
   },
   {
    "duration": 10,
    "start_time": "2024-09-06T14:53:27.941Z"
   },
   {
    "duration": 1705,
    "start_time": "2024-09-06T14:53:27.952Z"
   },
   {
    "duration": 35,
    "start_time": "2024-09-06T14:53:29.659Z"
   },
   {
    "duration": 1822,
    "start_time": "2024-09-06T14:53:29.696Z"
   },
   {
    "duration": 37,
    "start_time": "2024-09-06T14:53:31.520Z"
   },
   {
    "duration": 1797,
    "start_time": "2024-09-06T14:53:31.559Z"
   },
   {
    "duration": 35,
    "start_time": "2024-09-06T14:53:33.357Z"
   },
   {
    "duration": 1024,
    "start_time": "2024-09-06T14:53:33.393Z"
   },
   {
    "duration": 2,
    "start_time": "2024-09-06T14:53:34.425Z"
   },
   {
    "duration": 15,
    "start_time": "2024-09-06T14:53:34.429Z"
   },
   {
    "duration": 19,
    "start_time": "2024-09-06T14:53:34.445Z"
   },
   {
    "duration": 4,
    "start_time": "2024-09-06T14:53:34.466Z"
   },
   {
    "duration": 60,
    "start_time": "2024-09-06T14:53:34.472Z"
   },
   {
    "duration": 17,
    "start_time": "2024-09-06T14:53:34.625Z"
   },
   {
    "duration": 82,
    "start_time": "2024-09-06T14:53:34.643Z"
   },
   {
    "duration": 111,
    "start_time": "2024-09-06T14:53:34.728Z"
   },
   {
    "duration": 15,
    "start_time": "2024-09-06T14:53:34.841Z"
   },
   {
    "duration": 6,
    "start_time": "2024-09-06T14:53:34.927Z"
   },
   {
    "duration": 94,
    "start_time": "2024-09-06T14:53:34.935Z"
   },
   {
    "duration": 13,
    "start_time": "2024-09-06T14:53:35.031Z"
   },
   {
    "duration": 15,
    "start_time": "2024-09-06T14:57:56.481Z"
   },
   {
    "duration": 11,
    "start_time": "2024-09-06T14:58:08.503Z"
   },
   {
    "duration": 5,
    "start_time": "2024-09-06T14:59:52.578Z"
   },
   {
    "duration": 4,
    "start_time": "2024-09-06T15:02:17.832Z"
   },
   {
    "duration": 13,
    "start_time": "2024-09-06T15:02:30.420Z"
   },
   {
    "duration": 14,
    "start_time": "2024-09-06T15:03:56.047Z"
   },
   {
    "duration": 8,
    "start_time": "2024-09-06T15:05:36.629Z"
   },
   {
    "duration": 16,
    "start_time": "2024-09-06T15:08:19.207Z"
   },
   {
    "duration": 7,
    "start_time": "2024-09-06T15:09:01.517Z"
   },
   {
    "duration": 16,
    "start_time": "2024-09-06T15:09:16.750Z"
   },
   {
    "duration": 8,
    "start_time": "2024-09-06T15:09:22.775Z"
   },
   {
    "duration": 8,
    "start_time": "2024-09-06T15:09:42.951Z"
   },
   {
    "duration": 8,
    "start_time": "2024-09-06T15:10:20.895Z"
   },
   {
    "duration": 4,
    "start_time": "2024-09-06T15:10:48.830Z"
   },
   {
    "duration": 2,
    "start_time": "2024-09-06T15:11:15.082Z"
   },
   {
    "duration": 3,
    "start_time": "2024-09-06T15:11:29.854Z"
   },
   {
    "duration": 8,
    "start_time": "2024-09-06T15:12:10.906Z"
   },
   {
    "duration": 69,
    "start_time": "2024-09-06T16:07:03.023Z"
   },
   {
    "duration": 4,
    "start_time": "2024-09-06T16:08:19.328Z"
   },
   {
    "duration": 10,
    "start_time": "2024-09-06T16:08:37.193Z"
   },
   {
    "duration": 4,
    "start_time": "2024-09-06T16:09:01.926Z"
   },
   {
    "duration": 8,
    "start_time": "2024-09-06T16:09:02.230Z"
   },
   {
    "duration": 4,
    "start_time": "2024-09-06T16:09:54.343Z"
   },
   {
    "duration": 7,
    "start_time": "2024-09-06T16:09:54.612Z"
   },
   {
    "duration": 3,
    "start_time": "2024-09-06T16:10:05.316Z"
   },
   {
    "duration": 8,
    "start_time": "2024-09-06T16:10:05.716Z"
   },
   {
    "duration": 4,
    "start_time": "2024-09-06T16:11:40.123Z"
   },
   {
    "duration": 8,
    "start_time": "2024-09-06T16:11:40.359Z"
   },
   {
    "duration": 4,
    "start_time": "2024-09-06T16:13:52.117Z"
   },
   {
    "duration": 8,
    "start_time": "2024-09-06T16:13:52.461Z"
   },
   {
    "duration": 4,
    "start_time": "2024-09-06T16:14:12.418Z"
   },
   {
    "duration": 7,
    "start_time": "2024-09-06T16:14:12.658Z"
   },
   {
    "duration": 3,
    "start_time": "2024-09-06T16:16:32.372Z"
   },
   {
    "duration": 4,
    "start_time": "2024-09-06T16:16:41.500Z"
   },
   {
    "duration": 3,
    "start_time": "2024-09-06T16:23:05.199Z"
   },
   {
    "duration": 4,
    "start_time": "2024-09-06T16:23:50.652Z"
   },
   {
    "duration": 4,
    "start_time": "2024-09-06T16:24:07.948Z"
   },
   {
    "duration": 8,
    "start_time": "2024-09-06T16:24:08.498Z"
   },
   {
    "duration": 5,
    "start_time": "2024-09-06T16:25:19.548Z"
   },
   {
    "duration": 7,
    "start_time": "2024-09-06T16:25:20.035Z"
   },
   {
    "duration": 69,
    "start_time": "2024-09-06T16:25:42.428Z"
   },
   {
    "duration": 7,
    "start_time": "2024-09-06T16:25:42.668Z"
   },
   {
    "duration": 65,
    "start_time": "2024-09-06T16:25:52.447Z"
   },
   {
    "duration": 5,
    "start_time": "2024-09-06T16:26:11.240Z"
   },
   {
    "duration": 7,
    "start_time": "2024-09-06T16:26:11.952Z"
   },
   {
    "duration": 7,
    "start_time": "2024-09-06T16:27:04.547Z"
   },
   {
    "duration": 8,
    "start_time": "2024-09-06T16:28:11.654Z"
   },
   {
    "duration": 8,
    "start_time": "2024-09-06T16:28:52.086Z"
   },
   {
    "duration": 4,
    "start_time": "2024-09-06T16:33:20.696Z"
   },
   {
    "duration": 9,
    "start_time": "2024-09-06T16:33:23.149Z"
   },
   {
    "duration": 7,
    "start_time": "2024-09-06T16:33:28.025Z"
   },
   {
    "duration": 7,
    "start_time": "2024-09-06T16:33:31.248Z"
   },
   {
    "duration": 5,
    "start_time": "2024-09-06T16:37:42.477Z"
   },
   {
    "duration": 8,
    "start_time": "2024-09-06T16:37:43.370Z"
   },
   {
    "duration": 7,
    "start_time": "2024-09-06T16:37:46.595Z"
   },
   {
    "duration": 9,
    "start_time": "2024-09-06T16:37:48.842Z"
   },
   {
    "duration": 13,
    "start_time": "2024-09-06T18:35:14.910Z"
   },
   {
    "duration": 16,
    "start_time": "2024-09-06T18:36:51.888Z"
   },
   {
    "duration": 945,
    "start_time": "2024-09-06T18:40:12.013Z"
   },
   {
    "duration": 16,
    "start_time": "2024-09-06T18:40:23.549Z"
   },
   {
    "duration": 6,
    "start_time": "2024-09-06T18:40:40.391Z"
   },
   {
    "duration": 10,
    "start_time": "2024-09-06T18:40:44.485Z"
   },
   {
    "duration": 5,
    "start_time": "2024-09-06T18:43:45.303Z"
   },
   {
    "duration": 8,
    "start_time": "2024-09-06T18:44:12.926Z"
   },
   {
    "duration": 18,
    "start_time": "2024-09-06T18:44:15.984Z"
   },
   {
    "duration": 8,
    "start_time": "2024-09-06T18:44:16.359Z"
   },
   {
    "duration": 5,
    "start_time": "2024-09-06T18:46:46.122Z"
   },
   {
    "duration": 8,
    "start_time": "2024-09-06T18:46:46.994Z"
   },
   {
    "duration": 13,
    "start_time": "2024-09-06T18:48:46.199Z"
   },
   {
    "duration": 9,
    "start_time": "2024-09-06T18:49:03.871Z"
   },
   {
    "duration": 17,
    "start_time": "2024-09-06T19:42:08.996Z"
   },
   {
    "duration": 11,
    "start_time": "2024-09-06T19:43:49.571Z"
   },
   {
    "duration": 13,
    "start_time": "2024-09-06T19:44:11.847Z"
   },
   {
    "duration": 154,
    "start_time": "2024-09-06T19:45:52.832Z"
   },
   {
    "duration": 6,
    "start_time": "2024-09-06T19:46:41.424Z"
   },
   {
    "duration": 13,
    "start_time": "2024-09-06T19:46:42.064Z"
   },
   {
    "duration": 159,
    "start_time": "2024-09-06T19:46:52.280Z"
   },
   {
    "duration": 777,
    "start_time": "2024-09-06T19:47:11.287Z"
   },
   {
    "duration": 459,
    "start_time": "2024-09-06T19:47:25.273Z"
   },
   {
    "duration": 48,
    "start_time": "2024-09-07T08:08:46.991Z"
   },
   {
    "duration": 55,
    "start_time": "2024-09-07T08:09:01.711Z"
   },
   {
    "duration": 369,
    "start_time": "2024-09-07T08:10:43.232Z"
   },
   {
    "duration": 3,
    "start_time": "2024-09-07T08:14:31.193Z"
   },
   {
    "duration": 70,
    "start_time": "2024-09-07T08:21:47.986Z"
   },
   {
    "duration": 3,
    "start_time": "2024-09-07T08:22:03.001Z"
   },
   {
    "duration": 16,
    "start_time": "2024-09-07T08:22:35.011Z"
   },
   {
    "duration": 3,
    "start_time": "2024-09-07T08:23:01.280Z"
   },
   {
    "duration": 93,
    "start_time": "2024-09-07T08:23:01.888Z"
   },
   {
    "duration": 8,
    "start_time": "2024-09-07T08:23:18.279Z"
   },
   {
    "duration": 890,
    "start_time": "2024-09-07T08:23:30.522Z"
   },
   {
    "duration": 323,
    "start_time": "2024-09-07T08:24:43.687Z"
   },
   {
    "duration": 12,
    "start_time": "2024-09-07T08:25:15.838Z"
   },
   {
    "duration": 14349,
    "start_time": "2024-09-07T08:26:57.038Z"
   },
   {
    "duration": 16027,
    "start_time": "2024-09-07T08:27:24.958Z"
   },
   {
    "duration": 8,
    "start_time": "2024-09-07T08:31:33.431Z"
   },
   {
    "duration": 12,
    "start_time": "2024-09-07T08:32:04.743Z"
   },
   {
    "duration": 4,
    "start_time": "2024-09-07T08:32:42.709Z"
   },
   {
    "duration": 5,
    "start_time": "2024-09-07T08:32:49.918Z"
   },
   {
    "duration": 11,
    "start_time": "2024-09-07T08:33:08.111Z"
   },
   {
    "duration": 5,
    "start_time": "2024-09-07T08:33:16.516Z"
   },
   {
    "duration": 13,
    "start_time": "2024-09-07T08:33:31.181Z"
   },
   {
    "duration": 4,
    "start_time": "2024-09-07T08:33:39.308Z"
   },
   {
    "duration": 17184,
    "start_time": "2024-09-07T08:36:24.561Z"
   },
   {
    "duration": 14,
    "start_time": "2024-09-07T09:59:06.111Z"
   },
   {
    "duration": 12,
    "start_time": "2024-09-07T10:00:30.093Z"
   },
   {
    "duration": 13,
    "start_time": "2024-09-07T10:00:46.213Z"
   },
   {
    "duration": 4,
    "start_time": "2024-09-07T10:02:31.347Z"
   },
   {
    "duration": 18111,
    "start_time": "2024-09-07T10:02:53.732Z"
   },
   {
    "duration": 8,
    "start_time": "2024-09-07T12:48:58.641Z"
   },
   {
    "duration": 19453,
    "start_time": "2024-09-07T12:48:59.072Z"
   },
   {
    "duration": 62,
    "start_time": "2024-09-07T12:52:48.038Z"
   },
   {
    "duration": 5,
    "start_time": "2024-09-07T12:53:16.359Z"
   },
   {
    "duration": 17781,
    "start_time": "2024-09-07T12:53:19.715Z"
   },
   {
    "duration": 18012,
    "start_time": "2024-09-07T12:55:05.703Z"
   },
   {
    "duration": 17561,
    "start_time": "2024-09-07T12:56:11.090Z"
   },
   {
    "duration": 6,
    "start_time": "2024-09-07T12:56:55.742Z"
   },
   {
    "duration": 18258,
    "start_time": "2024-09-07T12:56:56.532Z"
   },
   {
    "duration": 4,
    "start_time": "2024-09-07T13:02:26.547Z"
   },
   {
    "duration": 17575,
    "start_time": "2024-09-07T13:02:28.022Z"
   },
   {
    "duration": 17624,
    "start_time": "2024-09-07T13:02:51.101Z"
   },
   {
    "duration": 5,
    "start_time": "2024-09-07T13:05:10.459Z"
   },
   {
    "duration": 17471,
    "start_time": "2024-09-07T13:05:11.336Z"
   },
   {
    "duration": 5,
    "start_time": "2024-09-07T13:07:04.753Z"
   },
   {
    "duration": 18555,
    "start_time": "2024-09-07T13:07:05.315Z"
   },
   {
    "duration": 5,
    "start_time": "2024-09-07T13:10:15.787Z"
   },
   {
    "duration": 18113,
    "start_time": "2024-09-07T13:10:16.430Z"
   },
   {
    "duration": 4,
    "start_time": "2024-09-07T13:10:58.923Z"
   },
   {
    "duration": 5,
    "start_time": "2024-09-07T13:11:17.671Z"
   },
   {
    "duration": 18356,
    "start_time": "2024-09-07T13:11:18.269Z"
   },
   {
    "duration": 6,
    "start_time": "2024-09-07T13:15:41.375Z"
   },
   {
    "duration": 283,
    "start_time": "2024-09-07T13:15:41.687Z"
   },
   {
    "duration": 14,
    "start_time": "2024-09-07T13:15:50.832Z"
   },
   {
    "duration": 4,
    "start_time": "2024-09-07T13:15:57.665Z"
   },
   {
    "duration": 3,
    "start_time": "2024-09-07T13:16:43.995Z"
   },
   {
    "duration": 227,
    "start_time": "2024-09-07T13:16:44.342Z"
   },
   {
    "duration": 9,
    "start_time": "2024-09-07T13:16:45.100Z"
   },
   {
    "duration": 4,
    "start_time": "2024-09-07T13:17:03.798Z"
   },
   {
    "duration": 4,
    "start_time": "2024-09-07T13:20:31.260Z"
   },
   {
    "duration": 523,
    "start_time": "2024-09-07T13:20:32.277Z"
   },
   {
    "duration": 5,
    "start_time": "2024-09-07T13:20:35.836Z"
   },
   {
    "duration": 4,
    "start_time": "2024-09-07T13:20:43.375Z"
   },
   {
    "duration": 134,
    "start_time": "2024-09-07T13:20:44.196Z"
   },
   {
    "duration": 134,
    "start_time": "2024-09-07T13:20:55.150Z"
   },
   {
    "duration": 4,
    "start_time": "2024-09-07T13:21:00.154Z"
   },
   {
    "duration": 2227,
    "start_time": "2024-09-07T13:21:01.508Z"
   },
   {
    "duration": 5,
    "start_time": "2024-09-07T13:31:46.269Z"
   },
   {
    "duration": 67,
    "start_time": "2024-09-07T13:31:47.476Z"
   },
   {
    "duration": 7,
    "start_time": "2024-09-07T13:32:08.846Z"
   },
   {
    "duration": 16,
    "start_time": "2024-09-07T13:32:09.802Z"
   },
   {
    "duration": 4,
    "start_time": "2024-09-07T13:32:40.260Z"
   },
   {
    "duration": 70,
    "start_time": "2024-09-07T13:32:41.218Z"
   },
   {
    "duration": 5,
    "start_time": "2024-09-07T13:33:32.828Z"
   },
   {
    "duration": 241,
    "start_time": "2024-09-07T13:33:33.485Z"
   },
   {
    "duration": 5,
    "start_time": "2024-09-07T13:33:35.241Z"
   },
   {
    "duration": 733,
    "start_time": "2024-09-07T13:33:36.458Z"
   },
   {
    "duration": 744,
    "start_time": "2024-09-07T13:33:56.273Z"
   },
   {
    "duration": 728,
    "start_time": "2024-09-07T13:34:00.203Z"
   },
   {
    "duration": 58,
    "start_time": "2024-09-07T13:54:01.844Z"
   },
   {
    "duration": 1432,
    "start_time": "2024-09-07T13:59:00.675Z"
   },
   {
    "duration": 452,
    "start_time": "2024-09-07T13:59:02.109Z"
   },
   {
    "duration": 13,
    "start_time": "2024-09-07T13:59:02.563Z"
   },
   {
    "duration": 69,
    "start_time": "2024-09-07T13:59:02.578Z"
   },
   {
    "duration": 162,
    "start_time": "2024-09-07T13:59:02.649Z"
   },
   {
    "duration": 35,
    "start_time": "2024-09-07T13:59:02.812Z"
   },
   {
    "duration": 78,
    "start_time": "2024-09-07T13:59:02.848Z"
   },
   {
    "duration": 39,
    "start_time": "2024-09-07T13:59:02.927Z"
   },
   {
    "duration": 34,
    "start_time": "2024-09-07T13:59:02.968Z"
   },
   {
    "duration": 32,
    "start_time": "2024-09-07T13:59:03.026Z"
   },
   {
    "duration": 23,
    "start_time": "2024-09-07T13:59:03.060Z"
   },
   {
    "duration": 15,
    "start_time": "2024-09-07T13:59:03.086Z"
   },
   {
    "duration": 17,
    "start_time": "2024-09-07T13:59:03.102Z"
   },
   {
    "duration": 6,
    "start_time": "2024-09-07T13:59:03.121Z"
   },
   {
    "duration": 1740,
    "start_time": "2024-09-07T13:59:03.129Z"
   },
   {
    "duration": 38,
    "start_time": "2024-09-07T13:59:04.871Z"
   },
   {
    "duration": 1850,
    "start_time": "2024-09-07T13:59:04.911Z"
   },
   {
    "duration": 38,
    "start_time": "2024-09-07T13:59:06.763Z"
   },
   {
    "duration": 1790,
    "start_time": "2024-09-07T13:59:06.803Z"
   },
   {
    "duration": 43,
    "start_time": "2024-09-07T13:59:08.595Z"
   },
   {
    "duration": 911,
    "start_time": "2024-09-07T13:59:08.641Z"
   },
   {
    "duration": 5,
    "start_time": "2024-09-07T13:59:09.555Z"
   },
   {
    "duration": 24,
    "start_time": "2024-09-07T13:59:09.562Z"
   },
   {
    "duration": 38,
    "start_time": "2024-09-07T13:59:09.589Z"
   },
   {
    "duration": 4,
    "start_time": "2024-09-07T13:59:09.628Z"
   },
   {
    "duration": 19,
    "start_time": "2024-09-07T13:59:09.634Z"
   },
   {
    "duration": 113,
    "start_time": "2024-09-07T13:59:09.724Z"
   },
   {
    "duration": 14,
    "start_time": "2024-09-07T13:59:09.841Z"
   },
   {
    "duration": 110,
    "start_time": "2024-09-07T13:59:09.925Z"
   },
   {
    "duration": 14,
    "start_time": "2024-09-07T13:59:10.037Z"
   },
   {
    "duration": 7,
    "start_time": "2024-09-07T13:59:10.125Z"
   },
   {
    "duration": 94,
    "start_time": "2024-09-07T13:59:10.134Z"
   },
   {
    "duration": 64,
    "start_time": "2024-09-07T13:59:10.231Z"
   },
   {
    "duration": 11,
    "start_time": "2024-09-07T13:59:10.297Z"
   },
   {
    "duration": 6,
    "start_time": "2024-09-07T13:59:10.310Z"
   },
   {
    "duration": 7,
    "start_time": "2024-09-07T13:59:10.317Z"
   },
   {
    "duration": 11,
    "start_time": "2024-09-07T13:59:10.326Z"
   },
   {
    "duration": 5,
    "start_time": "2024-09-07T13:59:10.338Z"
   },
   {
    "duration": 9,
    "start_time": "2024-09-07T13:59:10.344Z"
   },
   {
    "duration": 7,
    "start_time": "2024-09-07T13:59:10.355Z"
   },
   {
    "duration": 9,
    "start_time": "2024-09-07T13:59:10.363Z"
   },
   {
    "duration": 14,
    "start_time": "2024-09-07T13:59:10.374Z"
   },
   {
    "duration": 37,
    "start_time": "2024-09-07T13:59:10.390Z"
   },
   {
    "duration": 14,
    "start_time": "2024-09-07T13:59:10.428Z"
   },
   {
    "duration": 4,
    "start_time": "2024-09-07T13:59:10.444Z"
   },
   {
    "duration": 6,
    "start_time": "2024-09-07T13:59:10.450Z"
   },
   {
    "duration": 265,
    "start_time": "2024-09-07T13:59:10.458Z"
   },
   {
    "duration": 4,
    "start_time": "2024-09-07T13:59:10.725Z"
   },
   {
    "duration": 746,
    "start_time": "2024-09-07T13:59:10.731Z"
   },
   {
    "duration": 847,
    "start_time": "2024-09-07T13:59:11.478Z"
   },
   {
    "duration": 736,
    "start_time": "2024-09-07T13:59:12.327Z"
   },
   {
    "duration": 49,
    "start_time": "2024-09-09T06:44:05.647Z"
   },
   {
    "duration": 1663,
    "start_time": "2024-09-09T08:03:39.550Z"
   },
   {
    "duration": 1795,
    "start_time": "2024-09-09T08:03:41.214Z"
   },
   {
    "duration": 14,
    "start_time": "2024-09-09T08:03:43.010Z"
   },
   {
    "duration": 48,
    "start_time": "2024-09-09T08:03:43.026Z"
   },
   {
    "duration": 141,
    "start_time": "2024-09-09T08:03:43.076Z"
   },
   {
    "duration": 27,
    "start_time": "2024-09-09T08:03:43.224Z"
   },
   {
    "duration": 92,
    "start_time": "2024-09-09T08:03:43.252Z"
   },
   {
    "duration": 38,
    "start_time": "2024-09-09T08:03:43.345Z"
   },
   {
    "duration": 45,
    "start_time": "2024-09-09T08:03:43.385Z"
   },
   {
    "duration": 34,
    "start_time": "2024-09-09T08:03:43.433Z"
   },
   {
    "duration": 11,
    "start_time": "2024-09-09T08:03:43.468Z"
   },
   {
    "duration": 17,
    "start_time": "2024-09-09T08:03:43.480Z"
   },
   {
    "duration": 27,
    "start_time": "2024-09-09T08:03:43.499Z"
   },
   {
    "duration": 9,
    "start_time": "2024-09-09T08:03:43.528Z"
   },
   {
    "duration": 1736,
    "start_time": "2024-09-09T08:03:43.539Z"
   },
   {
    "duration": 49,
    "start_time": "2024-09-09T08:03:45.276Z"
   },
   {
    "duration": 1838,
    "start_time": "2024-09-09T08:03:45.327Z"
   },
   {
    "duration": 39,
    "start_time": "2024-09-09T08:03:47.166Z"
   },
   {
    "duration": 1870,
    "start_time": "2024-09-09T08:03:47.207Z"
   },
   {
    "duration": 48,
    "start_time": "2024-09-09T08:03:49.078Z"
   },
   {
    "duration": 1013,
    "start_time": "2024-09-09T08:03:49.127Z"
   },
   {
    "duration": 3,
    "start_time": "2024-09-09T08:03:50.142Z"
   },
   {
    "duration": 5,
    "start_time": "2024-09-09T08:03:50.147Z"
   },
   {
    "duration": 21,
    "start_time": "2024-09-09T08:03:50.154Z"
   },
   {
    "duration": 5,
    "start_time": "2024-09-09T08:03:50.177Z"
   },
   {
    "duration": 52,
    "start_time": "2024-09-09T08:03:50.184Z"
   },
   {
    "duration": 106,
    "start_time": "2024-09-09T08:03:50.238Z"
   },
   {
    "duration": 82,
    "start_time": "2024-09-09T08:03:50.347Z"
   },
   {
    "duration": 107,
    "start_time": "2024-09-09T08:03:50.431Z"
   },
   {
    "duration": 17,
    "start_time": "2024-09-09T08:03:50.540Z"
   },
   {
    "duration": 4,
    "start_time": "2024-09-09T08:03:50.626Z"
   },
   {
    "duration": 108,
    "start_time": "2024-09-09T08:03:50.632Z"
   },
   {
    "duration": 17,
    "start_time": "2024-09-09T08:03:50.741Z"
   },
   {
    "duration": 6,
    "start_time": "2024-09-09T08:03:50.759Z"
   },
   {
    "duration": 6,
    "start_time": "2024-09-09T08:03:50.766Z"
   },
   {
    "duration": 6,
    "start_time": "2024-09-09T08:03:50.773Z"
   },
   {
    "duration": 8,
    "start_time": "2024-09-09T08:03:50.780Z"
   },
   {
    "duration": 11,
    "start_time": "2024-09-09T08:03:50.790Z"
   },
   {
    "duration": 11,
    "start_time": "2024-09-09T08:03:50.803Z"
   },
   {
    "duration": 7,
    "start_time": "2024-09-09T08:03:50.816Z"
   },
   {
    "duration": 12,
    "start_time": "2024-09-09T08:03:50.825Z"
   },
   {
    "duration": 12,
    "start_time": "2024-09-09T08:07:29.425Z"
   },
   {
    "duration": 12,
    "start_time": "2024-09-09T16:14:49.961Z"
   },
   {
    "duration": 3,
    "start_time": "2024-09-09T16:17:47.757Z"
   },
   {
    "duration": 3,
    "start_time": "2024-09-09T16:20:31.965Z"
   },
   {
    "duration": 2194,
    "start_time": "2024-09-09T16:20:41.935Z"
   },
   {
    "duration": 42,
    "start_time": "2024-09-09T16:21:07.230Z"
   },
   {
    "duration": 1282,
    "start_time": "2024-09-09T16:21:21.172Z"
   },
   {
    "duration": 1659,
    "start_time": "2024-09-09T16:21:22.456Z"
   },
   {
    "duration": 12,
    "start_time": "2024-09-09T16:21:24.116Z"
   },
   {
    "duration": 40,
    "start_time": "2024-09-09T16:21:24.129Z"
   },
   {
    "duration": 112,
    "start_time": "2024-09-09T16:21:24.170Z"
   },
   {
    "duration": 21,
    "start_time": "2024-09-09T16:21:24.283Z"
   },
   {
    "duration": 67,
    "start_time": "2024-09-09T16:21:24.305Z"
   },
   {
    "duration": 29,
    "start_time": "2024-09-09T16:21:24.374Z"
   },
   {
    "duration": 40,
    "start_time": "2024-09-09T16:21:24.404Z"
   },
   {
    "duration": 27,
    "start_time": "2024-09-09T16:21:24.446Z"
   },
   {
    "duration": 34,
    "start_time": "2024-09-09T16:21:24.475Z"
   },
   {
    "duration": 17,
    "start_time": "2024-09-09T16:21:24.510Z"
   },
   {
    "duration": 14,
    "start_time": "2024-09-09T16:21:24.528Z"
   },
   {
    "duration": 6,
    "start_time": "2024-09-09T16:21:24.543Z"
   },
   {
    "duration": 1527,
    "start_time": "2024-09-09T16:21:24.550Z"
   },
   {
    "duration": 35,
    "start_time": "2024-09-09T16:21:26.078Z"
   },
   {
    "duration": 1681,
    "start_time": "2024-09-09T16:21:26.114Z"
   },
   {
    "duration": 44,
    "start_time": "2024-09-09T16:21:27.796Z"
   },
   {
    "duration": 1689,
    "start_time": "2024-09-09T16:21:27.841Z"
   },
   {
    "duration": 33,
    "start_time": "2024-09-09T16:21:29.531Z"
   },
   {
    "duration": 949,
    "start_time": "2024-09-09T16:21:29.565Z"
   },
   {
    "duration": 2,
    "start_time": "2024-09-09T16:21:30.516Z"
   },
   {
    "duration": 10,
    "start_time": "2024-09-09T16:21:30.525Z"
   },
   {
    "duration": 24,
    "start_time": "2024-09-09T16:21:30.537Z"
   },
   {
    "duration": 4,
    "start_time": "2024-09-09T16:21:30.562Z"
   },
   {
    "duration": 60,
    "start_time": "2024-09-09T16:21:30.567Z"
   },
   {
    "duration": 107,
    "start_time": "2024-09-09T16:21:30.629Z"
   },
   {
    "duration": 14,
    "start_time": "2024-09-09T16:21:30.739Z"
   },
   {
    "duration": 177,
    "start_time": "2024-09-09T16:21:30.755Z"
   },
   {
    "duration": 13,
    "start_time": "2024-09-09T16:21:30.934Z"
   },
   {
    "duration": 177,
    "start_time": "2024-09-09T16:21:30.949Z"
   },
   {
    "duration": 4,
    "start_time": "2024-09-09T16:21:31.128Z"
   },
   {
    "duration": 6,
    "start_time": "2024-09-09T16:21:31.133Z"
   },
   {
    "duration": 15,
    "start_time": "2024-09-09T16:21:31.141Z"
   },
   {
    "duration": 31,
    "start_time": "2024-09-09T16:21:31.158Z"
   },
   {
    "duration": 12,
    "start_time": "2024-09-09T16:21:31.191Z"
   },
   {
    "duration": 12,
    "start_time": "2024-09-09T16:21:31.204Z"
   },
   {
    "duration": 3,
    "start_time": "2024-09-09T16:21:31.218Z"
   },
   {
    "duration": 10,
    "start_time": "2024-09-09T16:21:31.223Z"
   },
   {
    "duration": 7,
    "start_time": "2024-09-09T16:21:31.235Z"
   },
   {
    "duration": 8,
    "start_time": "2024-09-09T16:21:31.244Z"
   },
   {
    "duration": 11,
    "start_time": "2024-09-09T16:21:31.253Z"
   },
   {
    "duration": 6,
    "start_time": "2024-09-09T16:21:31.266Z"
   },
   {
    "duration": 58,
    "start_time": "2024-09-09T16:21:31.273Z"
   },
   {
    "duration": 3,
    "start_time": "2024-09-09T16:21:38.422Z"
   },
   {
    "duration": 1933,
    "start_time": "2024-09-09T16:21:38.924Z"
   },
   {
    "duration": 7,
    "start_time": "2024-09-09T16:21:50.767Z"
   },
   {
    "duration": 873,
    "start_time": "2024-09-09T16:22:21.100Z"
   },
   {
    "duration": 4,
    "start_time": "2024-09-09T16:25:41.703Z"
   },
   {
    "duration": 43,
    "start_time": "2024-09-09T16:25:54.889Z"
   },
   {
    "duration": 1501,
    "start_time": "2024-09-09T16:26:03.753Z"
   },
   {
    "duration": 1677,
    "start_time": "2024-09-09T16:26:05.255Z"
   },
   {
    "duration": 12,
    "start_time": "2024-09-09T16:26:06.934Z"
   },
   {
    "duration": 60,
    "start_time": "2024-09-09T16:26:06.948Z"
   },
   {
    "duration": 158,
    "start_time": "2024-09-09T16:26:07.010Z"
   },
   {
    "duration": 22,
    "start_time": "2024-09-09T16:26:07.170Z"
   },
   {
    "duration": 65,
    "start_time": "2024-09-09T16:26:07.193Z"
   },
   {
    "duration": 28,
    "start_time": "2024-09-09T16:26:07.260Z"
   },
   {
    "duration": 44,
    "start_time": "2024-09-09T16:26:07.290Z"
   },
   {
    "duration": 38,
    "start_time": "2024-09-09T16:26:07.335Z"
   },
   {
    "duration": 19,
    "start_time": "2024-09-09T16:26:07.374Z"
   },
   {
    "duration": 25,
    "start_time": "2024-09-09T16:26:07.394Z"
   },
   {
    "duration": 47,
    "start_time": "2024-09-09T16:26:07.421Z"
   },
   {
    "duration": 28,
    "start_time": "2024-09-09T16:26:07.471Z"
   },
   {
    "duration": 1529,
    "start_time": "2024-09-09T16:26:07.501Z"
   },
   {
    "duration": 33,
    "start_time": "2024-09-09T16:26:09.032Z"
   },
   {
    "duration": 1691,
    "start_time": "2024-09-09T16:26:09.066Z"
   },
   {
    "duration": 36,
    "start_time": "2024-09-09T16:26:10.759Z"
   },
   {
    "duration": 1610,
    "start_time": "2024-09-09T16:26:10.796Z"
   },
   {
    "duration": 42,
    "start_time": "2024-09-09T16:26:12.407Z"
   },
   {
    "duration": 856,
    "start_time": "2024-09-09T16:26:12.451Z"
   },
   {
    "duration": 2,
    "start_time": "2024-09-09T16:26:13.308Z"
   },
   {
    "duration": 22,
    "start_time": "2024-09-09T16:26:13.311Z"
   },
   {
    "duration": 21,
    "start_time": "2024-09-09T16:26:13.334Z"
   },
   {
    "duration": 4,
    "start_time": "2024-09-09T16:26:13.356Z"
   },
   {
    "duration": 19,
    "start_time": "2024-09-09T16:26:13.361Z"
   },
   {
    "duration": 108,
    "start_time": "2024-09-09T16:26:13.428Z"
   },
   {
    "duration": 11,
    "start_time": "2024-09-09T16:26:13.538Z"
   },
   {
    "duration": 180,
    "start_time": "2024-09-09T16:26:13.551Z"
   },
   {
    "duration": 13,
    "start_time": "2024-09-09T16:26:13.732Z"
   },
   {
    "duration": 80,
    "start_time": "2024-09-09T16:26:13.747Z"
   },
   {
    "duration": 114,
    "start_time": "2024-09-09T16:26:13.829Z"
   },
   {
    "duration": 7,
    "start_time": "2024-09-09T16:26:13.944Z"
   },
   {
    "duration": 20,
    "start_time": "2024-09-09T16:26:13.952Z"
   },
   {
    "duration": 5,
    "start_time": "2024-09-09T16:26:13.973Z"
   },
   {
    "duration": 15,
    "start_time": "2024-09-09T16:26:13.980Z"
   },
   {
    "duration": 8,
    "start_time": "2024-09-09T16:26:13.997Z"
   },
   {
    "duration": 10,
    "start_time": "2024-09-09T16:26:14.007Z"
   },
   {
    "duration": 20,
    "start_time": "2024-09-09T16:26:14.018Z"
   },
   {
    "duration": 6,
    "start_time": "2024-09-09T16:26:14.040Z"
   },
   {
    "duration": 7,
    "start_time": "2024-09-09T16:26:14.049Z"
   },
   {
    "duration": 9,
    "start_time": "2024-09-09T16:26:14.057Z"
   },
   {
    "duration": 4,
    "start_time": "2024-09-09T16:26:14.067Z"
   },
   {
    "duration": 2,
    "start_time": "2024-09-09T16:26:33.705Z"
   },
   {
    "duration": 3,
    "start_time": "2024-09-09T16:26:34.189Z"
   },
   {
    "duration": 1398,
    "start_time": "2024-09-09T16:27:21.047Z"
   },
   {
    "duration": 1665,
    "start_time": "2024-09-09T16:27:22.447Z"
   },
   {
    "duration": 12,
    "start_time": "2024-09-09T16:27:24.113Z"
   },
   {
    "duration": 35,
    "start_time": "2024-09-09T16:27:24.127Z"
   },
   {
    "duration": 125,
    "start_time": "2024-09-09T16:27:24.164Z"
   },
   {
    "duration": 23,
    "start_time": "2024-09-09T16:27:24.290Z"
   },
   {
    "duration": 63,
    "start_time": "2024-09-09T16:27:24.314Z"
   },
   {
    "duration": 30,
    "start_time": "2024-09-09T16:27:24.378Z"
   },
   {
    "duration": 43,
    "start_time": "2024-09-09T16:27:24.409Z"
   },
   {
    "duration": 27,
    "start_time": "2024-09-09T16:27:24.454Z"
   },
   {
    "duration": 12,
    "start_time": "2024-09-09T16:27:24.483Z"
   },
   {
    "duration": 51,
    "start_time": "2024-09-09T16:27:24.497Z"
   },
   {
    "duration": 17,
    "start_time": "2024-09-09T16:27:24.550Z"
   },
   {
    "duration": 7,
    "start_time": "2024-09-09T16:27:24.568Z"
   },
   {
    "duration": 1565,
    "start_time": "2024-09-09T16:27:24.576Z"
   },
   {
    "duration": 36,
    "start_time": "2024-09-09T16:27:26.142Z"
   },
   {
    "duration": 1654,
    "start_time": "2024-09-09T16:27:26.179Z"
   },
   {
    "duration": 33,
    "start_time": "2024-09-09T16:27:27.835Z"
   },
   {
    "duration": 1674,
    "start_time": "2024-09-09T16:27:27.870Z"
   },
   {
    "duration": 42,
    "start_time": "2024-09-09T16:27:29.545Z"
   },
   {
    "duration": 947,
    "start_time": "2024-09-09T16:27:29.589Z"
   },
   {
    "duration": 3,
    "start_time": "2024-09-09T16:27:30.537Z"
   },
   {
    "duration": 43,
    "start_time": "2024-09-09T16:27:30.541Z"
   },
   {
    "duration": 28,
    "start_time": "2024-09-09T16:27:30.586Z"
   },
   {
    "duration": 5,
    "start_time": "2024-09-09T16:27:30.615Z"
   },
   {
    "duration": 24,
    "start_time": "2024-09-09T16:27:30.622Z"
   },
   {
    "duration": 111,
    "start_time": "2024-09-09T16:27:30.725Z"
   },
   {
    "duration": 15,
    "start_time": "2024-09-09T16:27:30.839Z"
   },
   {
    "duration": 112,
    "start_time": "2024-09-09T16:27:30.925Z"
   },
   {
    "duration": 28,
    "start_time": "2024-09-09T16:27:31.038Z"
   },
   {
    "duration": 4,
    "start_time": "2024-09-09T16:27:31.130Z"
   },
   {
    "duration": 93,
    "start_time": "2024-09-09T16:27:31.135Z"
   },
   {
    "duration": 5,
    "start_time": "2024-09-09T16:27:31.230Z"
   },
   {
    "duration": 4,
    "start_time": "2024-09-09T16:27:31.236Z"
   },
   {
    "duration": 4,
    "start_time": "2024-09-09T16:27:31.241Z"
   },
   {
    "duration": 5,
    "start_time": "2024-09-09T16:27:31.246Z"
   },
   {
    "duration": 9,
    "start_time": "2024-09-09T16:27:31.252Z"
   },
   {
    "duration": 4,
    "start_time": "2024-09-09T16:27:31.262Z"
   },
   {
    "duration": 7,
    "start_time": "2024-09-09T16:27:31.268Z"
   },
   {
    "duration": 7,
    "start_time": "2024-09-09T16:27:31.276Z"
   },
   {
    "duration": 48,
    "start_time": "2024-09-09T16:27:31.284Z"
   },
   {
    "duration": 11,
    "start_time": "2024-09-09T16:27:31.334Z"
   },
   {
    "duration": 3,
    "start_time": "2024-09-09T16:27:31.346Z"
   },
   {
    "duration": 3,
    "start_time": "2024-09-09T16:27:34.203Z"
   },
   {
    "duration": 4,
    "start_time": "2024-09-09T16:27:34.507Z"
   },
   {
    "duration": 43,
    "start_time": "2024-09-09T16:27:56.847Z"
   },
   {
    "duration": 1471,
    "start_time": "2024-09-09T16:28:08.307Z"
   },
   {
    "duration": 1673,
    "start_time": "2024-09-09T16:28:09.780Z"
   },
   {
    "duration": 13,
    "start_time": "2024-09-09T16:28:11.454Z"
   },
   {
    "duration": 38,
    "start_time": "2024-09-09T16:28:11.468Z"
   },
   {
    "duration": 120,
    "start_time": "2024-09-09T16:28:11.508Z"
   },
   {
    "duration": 23,
    "start_time": "2024-09-09T16:28:11.629Z"
   },
   {
    "duration": 77,
    "start_time": "2024-09-09T16:28:11.653Z"
   },
   {
    "duration": 32,
    "start_time": "2024-09-09T16:28:11.731Z"
   },
   {
    "duration": 39,
    "start_time": "2024-09-09T16:28:11.764Z"
   },
   {
    "duration": 38,
    "start_time": "2024-09-09T16:28:11.804Z"
   },
   {
    "duration": 9,
    "start_time": "2024-09-09T16:28:11.843Z"
   },
   {
    "duration": 23,
    "start_time": "2024-09-09T16:28:11.853Z"
   },
   {
    "duration": 11,
    "start_time": "2024-09-09T16:28:11.878Z"
   },
   {
    "duration": 6,
    "start_time": "2024-09-09T16:28:11.892Z"
   },
   {
    "duration": 1593,
    "start_time": "2024-09-09T16:28:11.900Z"
   },
   {
    "duration": 44,
    "start_time": "2024-09-09T16:28:13.495Z"
   },
   {
    "duration": 1648,
    "start_time": "2024-09-09T16:28:13.540Z"
   },
   {
    "duration": 44,
    "start_time": "2024-09-09T16:28:15.190Z"
   },
   {
    "duration": 1761,
    "start_time": "2024-09-09T16:28:15.235Z"
   },
   {
    "duration": 42,
    "start_time": "2024-09-09T16:28:16.997Z"
   },
   {
    "duration": 873,
    "start_time": "2024-09-09T16:28:17.041Z"
   },
   {
    "duration": 2,
    "start_time": "2024-09-09T16:28:17.915Z"
   },
   {
    "duration": 5,
    "start_time": "2024-09-09T16:28:17.925Z"
   },
   {
    "duration": 18,
    "start_time": "2024-09-09T16:28:17.932Z"
   },
   {
    "duration": 3,
    "start_time": "2024-09-09T16:28:17.952Z"
   },
   {
    "duration": 69,
    "start_time": "2024-09-09T16:28:17.957Z"
   },
   {
    "duration": 106,
    "start_time": "2024-09-09T16:28:18.027Z"
   },
   {
    "duration": 12,
    "start_time": "2024-09-09T16:28:18.135Z"
   },
   {
    "duration": 177,
    "start_time": "2024-09-09T16:28:18.150Z"
   },
   {
    "duration": 14,
    "start_time": "2024-09-09T16:28:18.329Z"
   },
   {
    "duration": 80,
    "start_time": "2024-09-09T16:28:18.346Z"
   },
   {
    "duration": 98,
    "start_time": "2024-09-09T16:28:18.428Z"
   },
   {
    "duration": 45,
    "start_time": "2024-09-09T16:28:18.528Z"
   },
   {
    "duration": 10,
    "start_time": "2024-09-09T16:28:18.575Z"
   },
   {
    "duration": 10,
    "start_time": "2024-09-09T16:28:18.586Z"
   },
   {
    "duration": 5,
    "start_time": "2024-09-09T16:28:18.597Z"
   },
   {
    "duration": 8,
    "start_time": "2024-09-09T16:28:18.604Z"
   },
   {
    "duration": 4,
    "start_time": "2024-09-09T16:28:18.613Z"
   },
   {
    "duration": 10,
    "start_time": "2024-09-09T16:28:18.618Z"
   },
   {
    "duration": 9,
    "start_time": "2024-09-09T16:28:18.629Z"
   },
   {
    "duration": 7,
    "start_time": "2024-09-09T16:28:18.641Z"
   },
   {
    "duration": 11,
    "start_time": "2024-09-09T16:28:22.279Z"
   },
   {
    "duration": 3,
    "start_time": "2024-09-09T16:28:23.645Z"
   },
   {
    "duration": 3,
    "start_time": "2024-09-09T16:28:44.241Z"
   },
   {
    "duration": 1365,
    "start_time": "2024-09-09T16:31:15.781Z"
   },
   {
    "duration": 1661,
    "start_time": "2024-09-09T16:31:17.148Z"
   },
   {
    "duration": 12,
    "start_time": "2024-09-09T16:31:18.811Z"
   },
   {
    "duration": 36,
    "start_time": "2024-09-09T16:31:18.825Z"
   },
   {
    "duration": 142,
    "start_time": "2024-09-09T16:31:18.863Z"
   },
   {
    "duration": 33,
    "start_time": "2024-09-09T16:31:19.006Z"
   },
   {
    "duration": 60,
    "start_time": "2024-09-09T16:31:19.041Z"
   },
   {
    "duration": 40,
    "start_time": "2024-09-09T16:31:19.102Z"
   },
   {
    "duration": 29,
    "start_time": "2024-09-09T16:31:19.143Z"
   },
   {
    "duration": 32,
    "start_time": "2024-09-09T16:31:19.175Z"
   },
   {
    "duration": 9,
    "start_time": "2024-09-09T16:31:19.225Z"
   },
   {
    "duration": 16,
    "start_time": "2024-09-09T16:31:19.236Z"
   },
   {
    "duration": 9,
    "start_time": "2024-09-09T16:31:19.254Z"
   },
   {
    "duration": 7,
    "start_time": "2024-09-09T16:31:19.265Z"
   },
   {
    "duration": 1632,
    "start_time": "2024-09-09T16:31:19.273Z"
   },
   {
    "duration": 39,
    "start_time": "2024-09-09T16:31:20.907Z"
   },
   {
    "duration": 1695,
    "start_time": "2024-09-09T16:31:20.947Z"
   },
   {
    "duration": 32,
    "start_time": "2024-09-09T16:31:22.644Z"
   },
   {
    "duration": 1655,
    "start_time": "2024-09-09T16:31:22.678Z"
   },
   {
    "duration": 32,
    "start_time": "2024-09-09T16:31:24.335Z"
   },
   {
    "duration": 881,
    "start_time": "2024-09-09T16:31:24.369Z"
   },
   {
    "duration": 2,
    "start_time": "2024-09-09T16:31:25.252Z"
   },
   {
    "duration": 10,
    "start_time": "2024-09-09T16:31:25.255Z"
   },
   {
    "duration": 21,
    "start_time": "2024-09-09T16:31:25.267Z"
   },
   {
    "duration": 4,
    "start_time": "2024-09-09T16:31:25.289Z"
   },
   {
    "duration": 32,
    "start_time": "2024-09-09T16:31:25.294Z"
   },
   {
    "duration": 112,
    "start_time": "2024-09-09T16:31:25.332Z"
   },
   {
    "duration": 86,
    "start_time": "2024-09-09T16:31:25.447Z"
   },
   {
    "duration": 195,
    "start_time": "2024-09-09T16:31:25.535Z"
   },
   {
    "duration": 14,
    "start_time": "2024-09-09T16:31:25.732Z"
   },
   {
    "duration": 80,
    "start_time": "2024-09-09T16:31:25.748Z"
   },
   {
    "duration": 3,
    "start_time": "2024-09-09T16:31:25.830Z"
   },
   {
    "duration": 98,
    "start_time": "2024-09-09T16:31:25.835Z"
   },
   {
    "duration": 18,
    "start_time": "2024-09-09T16:31:25.935Z"
   },
   {
    "duration": 6,
    "start_time": "2024-09-09T16:31:25.954Z"
   },
   {
    "duration": 11,
    "start_time": "2024-09-09T16:31:25.961Z"
   },
   {
    "duration": 9,
    "start_time": "2024-09-09T16:31:25.973Z"
   },
   {
    "duration": 6,
    "start_time": "2024-09-09T16:31:25.983Z"
   },
   {
    "duration": 11,
    "start_time": "2024-09-09T16:31:25.991Z"
   },
   {
    "duration": 7,
    "start_time": "2024-09-09T16:31:26.003Z"
   },
   {
    "duration": 16,
    "start_time": "2024-09-09T16:31:26.011Z"
   },
   {
    "duration": 11,
    "start_time": "2024-09-09T16:31:26.029Z"
   },
   {
    "duration": 3,
    "start_time": "2024-09-09T16:31:31.736Z"
   },
   {
    "duration": 4,
    "start_time": "2024-09-09T16:31:36.225Z"
   },
   {
    "duration": 200,
    "start_time": "2024-09-09T16:31:37.570Z"
   },
   {
    "duration": 186,
    "start_time": "2024-09-09T16:31:56.699Z"
   },
   {
    "duration": 12,
    "start_time": "2024-09-09T17:20:14.854Z"
   },
   {
    "duration": 104,
    "start_time": "2024-09-09T17:25:38.771Z"
   },
   {
    "duration": 5,
    "start_time": "2024-09-09T17:26:02.497Z"
   },
   {
    "duration": 5,
    "start_time": "2024-09-09T17:29:00.136Z"
   },
   {
    "duration": 1819,
    "start_time": "2024-09-09T17:30:58.308Z"
   },
   {
    "duration": 13,
    "start_time": "2024-09-09T17:36:05.575Z"
   },
   {
    "duration": 3,
    "start_time": "2024-09-09T17:36:27.604Z"
   },
   {
    "duration": 4,
    "start_time": "2024-09-09T17:37:50.536Z"
   },
   {
    "duration": 144,
    "start_time": "2024-09-09T17:38:07.044Z"
   },
   {
    "duration": 127,
    "start_time": "2024-09-09T17:38:34.547Z"
   },
   {
    "duration": 217,
    "start_time": "2024-09-09T17:38:43.827Z"
   },
   {
    "duration": 61,
    "start_time": "2024-09-09T17:46:02.910Z"
   },
   {
    "duration": 55,
    "start_time": "2024-09-09T17:48:13.155Z"
   }
  ],
  "kernelspec": {
   "display_name": "Python 3 (ipykernel)",
   "language": "python",
   "name": "python3"
  },
  "language_info": {
   "codemirror_mode": {
    "name": "ipython",
    "version": 3
   },
   "file_extension": ".py",
   "mimetype": "text/x-python",
   "name": "python",
   "nbconvert_exporter": "python",
   "pygments_lexer": "ipython3",
   "version": "3.12.3"
  },
  "toc": {
   "base_numbering": 1,
   "nav_menu": {},
   "number_sections": true,
   "sideBar": true,
   "skip_h1_title": true,
   "title_cell": "Table of Contents",
   "title_sidebar": "Contents",
   "toc_cell": false,
   "toc_position": {
    "height": "calc(100% - 180px)",
    "left": "10px",
    "top": "150px",
    "width": "349.091px"
   },
   "toc_section_display": true,
   "toc_window_display": true
  }
 },
 "nbformat": 4,
 "nbformat_minor": 4
}
